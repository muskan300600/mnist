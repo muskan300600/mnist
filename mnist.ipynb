{
 "cells": [
  {
   "cell_type": "code",
   "execution_count": 1,
   "metadata": {},
   "outputs": [],
   "source": [
    "from sklearn.datasets import fetch_openml"
   ]
  },
  {
   "cell_type": "code",
   "execution_count": 2,
   "metadata": {},
   "outputs": [],
   "source": [
    "mnist = fetch_openml('mnist_784')"
   ]
  },
  {
   "cell_type": "code",
   "execution_count": 3,
   "metadata": {},
   "outputs": [
    {
     "data": {
      "text/plain": [
       "{'data': array([[0., 0., 0., ..., 0., 0., 0.],\n",
       "        [0., 0., 0., ..., 0., 0., 0.],\n",
       "        [0., 0., 0., ..., 0., 0., 0.],\n",
       "        ...,\n",
       "        [0., 0., 0., ..., 0., 0., 0.],\n",
       "        [0., 0., 0., ..., 0., 0., 0.],\n",
       "        [0., 0., 0., ..., 0., 0., 0.]]),\n",
       " 'target': array(['5', '0', '4', ..., '4', '5', '6'], dtype=object),\n",
       " 'frame': None,\n",
       " 'categories': {},\n",
       " 'feature_names': ['pixel1',\n",
       "  'pixel2',\n",
       "  'pixel3',\n",
       "  'pixel4',\n",
       "  'pixel5',\n",
       "  'pixel6',\n",
       "  'pixel7',\n",
       "  'pixel8',\n",
       "  'pixel9',\n",
       "  'pixel10',\n",
       "  'pixel11',\n",
       "  'pixel12',\n",
       "  'pixel13',\n",
       "  'pixel14',\n",
       "  'pixel15',\n",
       "  'pixel16',\n",
       "  'pixel17',\n",
       "  'pixel18',\n",
       "  'pixel19',\n",
       "  'pixel20',\n",
       "  'pixel21',\n",
       "  'pixel22',\n",
       "  'pixel23',\n",
       "  'pixel24',\n",
       "  'pixel25',\n",
       "  'pixel26',\n",
       "  'pixel27',\n",
       "  'pixel28',\n",
       "  'pixel29',\n",
       "  'pixel30',\n",
       "  'pixel31',\n",
       "  'pixel32',\n",
       "  'pixel33',\n",
       "  'pixel34',\n",
       "  'pixel35',\n",
       "  'pixel36',\n",
       "  'pixel37',\n",
       "  'pixel38',\n",
       "  'pixel39',\n",
       "  'pixel40',\n",
       "  'pixel41',\n",
       "  'pixel42',\n",
       "  'pixel43',\n",
       "  'pixel44',\n",
       "  'pixel45',\n",
       "  'pixel46',\n",
       "  'pixel47',\n",
       "  'pixel48',\n",
       "  'pixel49',\n",
       "  'pixel50',\n",
       "  'pixel51',\n",
       "  'pixel52',\n",
       "  'pixel53',\n",
       "  'pixel54',\n",
       "  'pixel55',\n",
       "  'pixel56',\n",
       "  'pixel57',\n",
       "  'pixel58',\n",
       "  'pixel59',\n",
       "  'pixel60',\n",
       "  'pixel61',\n",
       "  'pixel62',\n",
       "  'pixel63',\n",
       "  'pixel64',\n",
       "  'pixel65',\n",
       "  'pixel66',\n",
       "  'pixel67',\n",
       "  'pixel68',\n",
       "  'pixel69',\n",
       "  'pixel70',\n",
       "  'pixel71',\n",
       "  'pixel72',\n",
       "  'pixel73',\n",
       "  'pixel74',\n",
       "  'pixel75',\n",
       "  'pixel76',\n",
       "  'pixel77',\n",
       "  'pixel78',\n",
       "  'pixel79',\n",
       "  'pixel80',\n",
       "  'pixel81',\n",
       "  'pixel82',\n",
       "  'pixel83',\n",
       "  'pixel84',\n",
       "  'pixel85',\n",
       "  'pixel86',\n",
       "  'pixel87',\n",
       "  'pixel88',\n",
       "  'pixel89',\n",
       "  'pixel90',\n",
       "  'pixel91',\n",
       "  'pixel92',\n",
       "  'pixel93',\n",
       "  'pixel94',\n",
       "  'pixel95',\n",
       "  'pixel96',\n",
       "  'pixel97',\n",
       "  'pixel98',\n",
       "  'pixel99',\n",
       "  'pixel100',\n",
       "  'pixel101',\n",
       "  'pixel102',\n",
       "  'pixel103',\n",
       "  'pixel104',\n",
       "  'pixel105',\n",
       "  'pixel106',\n",
       "  'pixel107',\n",
       "  'pixel108',\n",
       "  'pixel109',\n",
       "  'pixel110',\n",
       "  'pixel111',\n",
       "  'pixel112',\n",
       "  'pixel113',\n",
       "  'pixel114',\n",
       "  'pixel115',\n",
       "  'pixel116',\n",
       "  'pixel117',\n",
       "  'pixel118',\n",
       "  'pixel119',\n",
       "  'pixel120',\n",
       "  'pixel121',\n",
       "  'pixel122',\n",
       "  'pixel123',\n",
       "  'pixel124',\n",
       "  'pixel125',\n",
       "  'pixel126',\n",
       "  'pixel127',\n",
       "  'pixel128',\n",
       "  'pixel129',\n",
       "  'pixel130',\n",
       "  'pixel131',\n",
       "  'pixel132',\n",
       "  'pixel133',\n",
       "  'pixel134',\n",
       "  'pixel135',\n",
       "  'pixel136',\n",
       "  'pixel137',\n",
       "  'pixel138',\n",
       "  'pixel139',\n",
       "  'pixel140',\n",
       "  'pixel141',\n",
       "  'pixel142',\n",
       "  'pixel143',\n",
       "  'pixel144',\n",
       "  'pixel145',\n",
       "  'pixel146',\n",
       "  'pixel147',\n",
       "  'pixel148',\n",
       "  'pixel149',\n",
       "  'pixel150',\n",
       "  'pixel151',\n",
       "  'pixel152',\n",
       "  'pixel153',\n",
       "  'pixel154',\n",
       "  'pixel155',\n",
       "  'pixel156',\n",
       "  'pixel157',\n",
       "  'pixel158',\n",
       "  'pixel159',\n",
       "  'pixel160',\n",
       "  'pixel161',\n",
       "  'pixel162',\n",
       "  'pixel163',\n",
       "  'pixel164',\n",
       "  'pixel165',\n",
       "  'pixel166',\n",
       "  'pixel167',\n",
       "  'pixel168',\n",
       "  'pixel169',\n",
       "  'pixel170',\n",
       "  'pixel171',\n",
       "  'pixel172',\n",
       "  'pixel173',\n",
       "  'pixel174',\n",
       "  'pixel175',\n",
       "  'pixel176',\n",
       "  'pixel177',\n",
       "  'pixel178',\n",
       "  'pixel179',\n",
       "  'pixel180',\n",
       "  'pixel181',\n",
       "  'pixel182',\n",
       "  'pixel183',\n",
       "  'pixel184',\n",
       "  'pixel185',\n",
       "  'pixel186',\n",
       "  'pixel187',\n",
       "  'pixel188',\n",
       "  'pixel189',\n",
       "  'pixel190',\n",
       "  'pixel191',\n",
       "  'pixel192',\n",
       "  'pixel193',\n",
       "  'pixel194',\n",
       "  'pixel195',\n",
       "  'pixel196',\n",
       "  'pixel197',\n",
       "  'pixel198',\n",
       "  'pixel199',\n",
       "  'pixel200',\n",
       "  'pixel201',\n",
       "  'pixel202',\n",
       "  'pixel203',\n",
       "  'pixel204',\n",
       "  'pixel205',\n",
       "  'pixel206',\n",
       "  'pixel207',\n",
       "  'pixel208',\n",
       "  'pixel209',\n",
       "  'pixel210',\n",
       "  'pixel211',\n",
       "  'pixel212',\n",
       "  'pixel213',\n",
       "  'pixel214',\n",
       "  'pixel215',\n",
       "  'pixel216',\n",
       "  'pixel217',\n",
       "  'pixel218',\n",
       "  'pixel219',\n",
       "  'pixel220',\n",
       "  'pixel221',\n",
       "  'pixel222',\n",
       "  'pixel223',\n",
       "  'pixel224',\n",
       "  'pixel225',\n",
       "  'pixel226',\n",
       "  'pixel227',\n",
       "  'pixel228',\n",
       "  'pixel229',\n",
       "  'pixel230',\n",
       "  'pixel231',\n",
       "  'pixel232',\n",
       "  'pixel233',\n",
       "  'pixel234',\n",
       "  'pixel235',\n",
       "  'pixel236',\n",
       "  'pixel237',\n",
       "  'pixel238',\n",
       "  'pixel239',\n",
       "  'pixel240',\n",
       "  'pixel241',\n",
       "  'pixel242',\n",
       "  'pixel243',\n",
       "  'pixel244',\n",
       "  'pixel245',\n",
       "  'pixel246',\n",
       "  'pixel247',\n",
       "  'pixel248',\n",
       "  'pixel249',\n",
       "  'pixel250',\n",
       "  'pixel251',\n",
       "  'pixel252',\n",
       "  'pixel253',\n",
       "  'pixel254',\n",
       "  'pixel255',\n",
       "  'pixel256',\n",
       "  'pixel257',\n",
       "  'pixel258',\n",
       "  'pixel259',\n",
       "  'pixel260',\n",
       "  'pixel261',\n",
       "  'pixel262',\n",
       "  'pixel263',\n",
       "  'pixel264',\n",
       "  'pixel265',\n",
       "  'pixel266',\n",
       "  'pixel267',\n",
       "  'pixel268',\n",
       "  'pixel269',\n",
       "  'pixel270',\n",
       "  'pixel271',\n",
       "  'pixel272',\n",
       "  'pixel273',\n",
       "  'pixel274',\n",
       "  'pixel275',\n",
       "  'pixel276',\n",
       "  'pixel277',\n",
       "  'pixel278',\n",
       "  'pixel279',\n",
       "  'pixel280',\n",
       "  'pixel281',\n",
       "  'pixel282',\n",
       "  'pixel283',\n",
       "  'pixel284',\n",
       "  'pixel285',\n",
       "  'pixel286',\n",
       "  'pixel287',\n",
       "  'pixel288',\n",
       "  'pixel289',\n",
       "  'pixel290',\n",
       "  'pixel291',\n",
       "  'pixel292',\n",
       "  'pixel293',\n",
       "  'pixel294',\n",
       "  'pixel295',\n",
       "  'pixel296',\n",
       "  'pixel297',\n",
       "  'pixel298',\n",
       "  'pixel299',\n",
       "  'pixel300',\n",
       "  'pixel301',\n",
       "  'pixel302',\n",
       "  'pixel303',\n",
       "  'pixel304',\n",
       "  'pixel305',\n",
       "  'pixel306',\n",
       "  'pixel307',\n",
       "  'pixel308',\n",
       "  'pixel309',\n",
       "  'pixel310',\n",
       "  'pixel311',\n",
       "  'pixel312',\n",
       "  'pixel313',\n",
       "  'pixel314',\n",
       "  'pixel315',\n",
       "  'pixel316',\n",
       "  'pixel317',\n",
       "  'pixel318',\n",
       "  'pixel319',\n",
       "  'pixel320',\n",
       "  'pixel321',\n",
       "  'pixel322',\n",
       "  'pixel323',\n",
       "  'pixel324',\n",
       "  'pixel325',\n",
       "  'pixel326',\n",
       "  'pixel327',\n",
       "  'pixel328',\n",
       "  'pixel329',\n",
       "  'pixel330',\n",
       "  'pixel331',\n",
       "  'pixel332',\n",
       "  'pixel333',\n",
       "  'pixel334',\n",
       "  'pixel335',\n",
       "  'pixel336',\n",
       "  'pixel337',\n",
       "  'pixel338',\n",
       "  'pixel339',\n",
       "  'pixel340',\n",
       "  'pixel341',\n",
       "  'pixel342',\n",
       "  'pixel343',\n",
       "  'pixel344',\n",
       "  'pixel345',\n",
       "  'pixel346',\n",
       "  'pixel347',\n",
       "  'pixel348',\n",
       "  'pixel349',\n",
       "  'pixel350',\n",
       "  'pixel351',\n",
       "  'pixel352',\n",
       "  'pixel353',\n",
       "  'pixel354',\n",
       "  'pixel355',\n",
       "  'pixel356',\n",
       "  'pixel357',\n",
       "  'pixel358',\n",
       "  'pixel359',\n",
       "  'pixel360',\n",
       "  'pixel361',\n",
       "  'pixel362',\n",
       "  'pixel363',\n",
       "  'pixel364',\n",
       "  'pixel365',\n",
       "  'pixel366',\n",
       "  'pixel367',\n",
       "  'pixel368',\n",
       "  'pixel369',\n",
       "  'pixel370',\n",
       "  'pixel371',\n",
       "  'pixel372',\n",
       "  'pixel373',\n",
       "  'pixel374',\n",
       "  'pixel375',\n",
       "  'pixel376',\n",
       "  'pixel377',\n",
       "  'pixel378',\n",
       "  'pixel379',\n",
       "  'pixel380',\n",
       "  'pixel381',\n",
       "  'pixel382',\n",
       "  'pixel383',\n",
       "  'pixel384',\n",
       "  'pixel385',\n",
       "  'pixel386',\n",
       "  'pixel387',\n",
       "  'pixel388',\n",
       "  'pixel389',\n",
       "  'pixel390',\n",
       "  'pixel391',\n",
       "  'pixel392',\n",
       "  'pixel393',\n",
       "  'pixel394',\n",
       "  'pixel395',\n",
       "  'pixel396',\n",
       "  'pixel397',\n",
       "  'pixel398',\n",
       "  'pixel399',\n",
       "  'pixel400',\n",
       "  'pixel401',\n",
       "  'pixel402',\n",
       "  'pixel403',\n",
       "  'pixel404',\n",
       "  'pixel405',\n",
       "  'pixel406',\n",
       "  'pixel407',\n",
       "  'pixel408',\n",
       "  'pixel409',\n",
       "  'pixel410',\n",
       "  'pixel411',\n",
       "  'pixel412',\n",
       "  'pixel413',\n",
       "  'pixel414',\n",
       "  'pixel415',\n",
       "  'pixel416',\n",
       "  'pixel417',\n",
       "  'pixel418',\n",
       "  'pixel419',\n",
       "  'pixel420',\n",
       "  'pixel421',\n",
       "  'pixel422',\n",
       "  'pixel423',\n",
       "  'pixel424',\n",
       "  'pixel425',\n",
       "  'pixel426',\n",
       "  'pixel427',\n",
       "  'pixel428',\n",
       "  'pixel429',\n",
       "  'pixel430',\n",
       "  'pixel431',\n",
       "  'pixel432',\n",
       "  'pixel433',\n",
       "  'pixel434',\n",
       "  'pixel435',\n",
       "  'pixel436',\n",
       "  'pixel437',\n",
       "  'pixel438',\n",
       "  'pixel439',\n",
       "  'pixel440',\n",
       "  'pixel441',\n",
       "  'pixel442',\n",
       "  'pixel443',\n",
       "  'pixel444',\n",
       "  'pixel445',\n",
       "  'pixel446',\n",
       "  'pixel447',\n",
       "  'pixel448',\n",
       "  'pixel449',\n",
       "  'pixel450',\n",
       "  'pixel451',\n",
       "  'pixel452',\n",
       "  'pixel453',\n",
       "  'pixel454',\n",
       "  'pixel455',\n",
       "  'pixel456',\n",
       "  'pixel457',\n",
       "  'pixel458',\n",
       "  'pixel459',\n",
       "  'pixel460',\n",
       "  'pixel461',\n",
       "  'pixel462',\n",
       "  'pixel463',\n",
       "  'pixel464',\n",
       "  'pixel465',\n",
       "  'pixel466',\n",
       "  'pixel467',\n",
       "  'pixel468',\n",
       "  'pixel469',\n",
       "  'pixel470',\n",
       "  'pixel471',\n",
       "  'pixel472',\n",
       "  'pixel473',\n",
       "  'pixel474',\n",
       "  'pixel475',\n",
       "  'pixel476',\n",
       "  'pixel477',\n",
       "  'pixel478',\n",
       "  'pixel479',\n",
       "  'pixel480',\n",
       "  'pixel481',\n",
       "  'pixel482',\n",
       "  'pixel483',\n",
       "  'pixel484',\n",
       "  'pixel485',\n",
       "  'pixel486',\n",
       "  'pixel487',\n",
       "  'pixel488',\n",
       "  'pixel489',\n",
       "  'pixel490',\n",
       "  'pixel491',\n",
       "  'pixel492',\n",
       "  'pixel493',\n",
       "  'pixel494',\n",
       "  'pixel495',\n",
       "  'pixel496',\n",
       "  'pixel497',\n",
       "  'pixel498',\n",
       "  'pixel499',\n",
       "  'pixel500',\n",
       "  'pixel501',\n",
       "  'pixel502',\n",
       "  'pixel503',\n",
       "  'pixel504',\n",
       "  'pixel505',\n",
       "  'pixel506',\n",
       "  'pixel507',\n",
       "  'pixel508',\n",
       "  'pixel509',\n",
       "  'pixel510',\n",
       "  'pixel511',\n",
       "  'pixel512',\n",
       "  'pixel513',\n",
       "  'pixel514',\n",
       "  'pixel515',\n",
       "  'pixel516',\n",
       "  'pixel517',\n",
       "  'pixel518',\n",
       "  'pixel519',\n",
       "  'pixel520',\n",
       "  'pixel521',\n",
       "  'pixel522',\n",
       "  'pixel523',\n",
       "  'pixel524',\n",
       "  'pixel525',\n",
       "  'pixel526',\n",
       "  'pixel527',\n",
       "  'pixel528',\n",
       "  'pixel529',\n",
       "  'pixel530',\n",
       "  'pixel531',\n",
       "  'pixel532',\n",
       "  'pixel533',\n",
       "  'pixel534',\n",
       "  'pixel535',\n",
       "  'pixel536',\n",
       "  'pixel537',\n",
       "  'pixel538',\n",
       "  'pixel539',\n",
       "  'pixel540',\n",
       "  'pixel541',\n",
       "  'pixel542',\n",
       "  'pixel543',\n",
       "  'pixel544',\n",
       "  'pixel545',\n",
       "  'pixel546',\n",
       "  'pixel547',\n",
       "  'pixel548',\n",
       "  'pixel549',\n",
       "  'pixel550',\n",
       "  'pixel551',\n",
       "  'pixel552',\n",
       "  'pixel553',\n",
       "  'pixel554',\n",
       "  'pixel555',\n",
       "  'pixel556',\n",
       "  'pixel557',\n",
       "  'pixel558',\n",
       "  'pixel559',\n",
       "  'pixel560',\n",
       "  'pixel561',\n",
       "  'pixel562',\n",
       "  'pixel563',\n",
       "  'pixel564',\n",
       "  'pixel565',\n",
       "  'pixel566',\n",
       "  'pixel567',\n",
       "  'pixel568',\n",
       "  'pixel569',\n",
       "  'pixel570',\n",
       "  'pixel571',\n",
       "  'pixel572',\n",
       "  'pixel573',\n",
       "  'pixel574',\n",
       "  'pixel575',\n",
       "  'pixel576',\n",
       "  'pixel577',\n",
       "  'pixel578',\n",
       "  'pixel579',\n",
       "  'pixel580',\n",
       "  'pixel581',\n",
       "  'pixel582',\n",
       "  'pixel583',\n",
       "  'pixel584',\n",
       "  'pixel585',\n",
       "  'pixel586',\n",
       "  'pixel587',\n",
       "  'pixel588',\n",
       "  'pixel589',\n",
       "  'pixel590',\n",
       "  'pixel591',\n",
       "  'pixel592',\n",
       "  'pixel593',\n",
       "  'pixel594',\n",
       "  'pixel595',\n",
       "  'pixel596',\n",
       "  'pixel597',\n",
       "  'pixel598',\n",
       "  'pixel599',\n",
       "  'pixel600',\n",
       "  'pixel601',\n",
       "  'pixel602',\n",
       "  'pixel603',\n",
       "  'pixel604',\n",
       "  'pixel605',\n",
       "  'pixel606',\n",
       "  'pixel607',\n",
       "  'pixel608',\n",
       "  'pixel609',\n",
       "  'pixel610',\n",
       "  'pixel611',\n",
       "  'pixel612',\n",
       "  'pixel613',\n",
       "  'pixel614',\n",
       "  'pixel615',\n",
       "  'pixel616',\n",
       "  'pixel617',\n",
       "  'pixel618',\n",
       "  'pixel619',\n",
       "  'pixel620',\n",
       "  'pixel621',\n",
       "  'pixel622',\n",
       "  'pixel623',\n",
       "  'pixel624',\n",
       "  'pixel625',\n",
       "  'pixel626',\n",
       "  'pixel627',\n",
       "  'pixel628',\n",
       "  'pixel629',\n",
       "  'pixel630',\n",
       "  'pixel631',\n",
       "  'pixel632',\n",
       "  'pixel633',\n",
       "  'pixel634',\n",
       "  'pixel635',\n",
       "  'pixel636',\n",
       "  'pixel637',\n",
       "  'pixel638',\n",
       "  'pixel639',\n",
       "  'pixel640',\n",
       "  'pixel641',\n",
       "  'pixel642',\n",
       "  'pixel643',\n",
       "  'pixel644',\n",
       "  'pixel645',\n",
       "  'pixel646',\n",
       "  'pixel647',\n",
       "  'pixel648',\n",
       "  'pixel649',\n",
       "  'pixel650',\n",
       "  'pixel651',\n",
       "  'pixel652',\n",
       "  'pixel653',\n",
       "  'pixel654',\n",
       "  'pixel655',\n",
       "  'pixel656',\n",
       "  'pixel657',\n",
       "  'pixel658',\n",
       "  'pixel659',\n",
       "  'pixel660',\n",
       "  'pixel661',\n",
       "  'pixel662',\n",
       "  'pixel663',\n",
       "  'pixel664',\n",
       "  'pixel665',\n",
       "  'pixel666',\n",
       "  'pixel667',\n",
       "  'pixel668',\n",
       "  'pixel669',\n",
       "  'pixel670',\n",
       "  'pixel671',\n",
       "  'pixel672',\n",
       "  'pixel673',\n",
       "  'pixel674',\n",
       "  'pixel675',\n",
       "  'pixel676',\n",
       "  'pixel677',\n",
       "  'pixel678',\n",
       "  'pixel679',\n",
       "  'pixel680',\n",
       "  'pixel681',\n",
       "  'pixel682',\n",
       "  'pixel683',\n",
       "  'pixel684',\n",
       "  'pixel685',\n",
       "  'pixel686',\n",
       "  'pixel687',\n",
       "  'pixel688',\n",
       "  'pixel689',\n",
       "  'pixel690',\n",
       "  'pixel691',\n",
       "  'pixel692',\n",
       "  'pixel693',\n",
       "  'pixel694',\n",
       "  'pixel695',\n",
       "  'pixel696',\n",
       "  'pixel697',\n",
       "  'pixel698',\n",
       "  'pixel699',\n",
       "  'pixel700',\n",
       "  'pixel701',\n",
       "  'pixel702',\n",
       "  'pixel703',\n",
       "  'pixel704',\n",
       "  'pixel705',\n",
       "  'pixel706',\n",
       "  'pixel707',\n",
       "  'pixel708',\n",
       "  'pixel709',\n",
       "  'pixel710',\n",
       "  'pixel711',\n",
       "  'pixel712',\n",
       "  'pixel713',\n",
       "  'pixel714',\n",
       "  'pixel715',\n",
       "  'pixel716',\n",
       "  'pixel717',\n",
       "  'pixel718',\n",
       "  'pixel719',\n",
       "  'pixel720',\n",
       "  'pixel721',\n",
       "  'pixel722',\n",
       "  'pixel723',\n",
       "  'pixel724',\n",
       "  'pixel725',\n",
       "  'pixel726',\n",
       "  'pixel727',\n",
       "  'pixel728',\n",
       "  'pixel729',\n",
       "  'pixel730',\n",
       "  'pixel731',\n",
       "  'pixel732',\n",
       "  'pixel733',\n",
       "  'pixel734',\n",
       "  'pixel735',\n",
       "  'pixel736',\n",
       "  'pixel737',\n",
       "  'pixel738',\n",
       "  'pixel739',\n",
       "  'pixel740',\n",
       "  'pixel741',\n",
       "  'pixel742',\n",
       "  'pixel743',\n",
       "  'pixel744',\n",
       "  'pixel745',\n",
       "  'pixel746',\n",
       "  'pixel747',\n",
       "  'pixel748',\n",
       "  'pixel749',\n",
       "  'pixel750',\n",
       "  'pixel751',\n",
       "  'pixel752',\n",
       "  'pixel753',\n",
       "  'pixel754',\n",
       "  'pixel755',\n",
       "  'pixel756',\n",
       "  'pixel757',\n",
       "  'pixel758',\n",
       "  'pixel759',\n",
       "  'pixel760',\n",
       "  'pixel761',\n",
       "  'pixel762',\n",
       "  'pixel763',\n",
       "  'pixel764',\n",
       "  'pixel765',\n",
       "  'pixel766',\n",
       "  'pixel767',\n",
       "  'pixel768',\n",
       "  'pixel769',\n",
       "  'pixel770',\n",
       "  'pixel771',\n",
       "  'pixel772',\n",
       "  'pixel773',\n",
       "  'pixel774',\n",
       "  'pixel775',\n",
       "  'pixel776',\n",
       "  'pixel777',\n",
       "  'pixel778',\n",
       "  'pixel779',\n",
       "  'pixel780',\n",
       "  'pixel781',\n",
       "  'pixel782',\n",
       "  'pixel783',\n",
       "  'pixel784'],\n",
       " 'target_names': ['class'],\n",
       " 'DESCR': \"**Author**: Yann LeCun, Corinna Cortes, Christopher J.C. Burges  \\n**Source**: [MNIST Website](http://yann.lecun.com/exdb/mnist/) - Date unknown  \\n**Please cite**:  \\n\\nThe MNIST database of handwritten digits with 784 features, raw data available at: http://yann.lecun.com/exdb/mnist/. It can be split in a training set of the first 60,000 examples, and a test set of 10,000 examples  \\n\\nIt is a subset of a larger set available from NIST. The digits have been size-normalized and centered in a fixed-size image. It is a good database for people who want to try learning techniques and pattern recognition methods on real-world data while spending minimal efforts on preprocessing and formatting. The original black and white (bilevel) images from NIST were size normalized to fit in a 20x20 pixel box while preserving their aspect ratio. The resulting images contain grey levels as a result of the anti-aliasing technique used by the normalization algorithm. the images were centered in a 28x28 image by computing the center of mass of the pixels, and translating the image so as to position this point at the center of the 28x28 field.  \\n\\nWith some classification methods (particularly template-based methods, such as SVM and K-nearest neighbors), the error rate improves when the digits are centered by bounding box rather than center of mass. If you do this kind of pre-processing, you should report it in your publications. The MNIST database was constructed from NIST's NIST originally designated SD-3 as their training set and SD-1 as their test set. However, SD-3 is much cleaner and easier to recognize than SD-1. The reason for this can be found on the fact that SD-3 was collected among Census Bureau employees, while SD-1 was collected among high-school students. Drawing sensible conclusions from learning experiments requires that the result be independent of the choice of training set and test among the complete set of samples. Therefore it was necessary to build a new database by mixing NIST's datasets.  \\n\\nThe MNIST training set is composed of 30,000 patterns from SD-3 and 30,000 patterns from SD-1. Our test set was composed of 5,000 patterns from SD-3 and 5,000 patterns from SD-1. The 60,000 pattern training set contained examples from approximately 250 writers. We made sure that the sets of writers of the training set and test set were disjoint. SD-1 contains 58,527 digit images written by 500 different writers. In contrast to SD-3, where blocks of data from each writer appeared in sequence, the data in SD-1 is scrambled. Writer identities for SD-1 is available and we used this information to unscramble the writers. We then split SD-1 in two: characters written by the first 250 writers went into our new training set. The remaining 250 writers were placed in our test set. Thus we had two sets with nearly 30,000 examples each. The new training set was completed with enough examples from SD-3, starting at pattern # 0, to make a full set of 60,000 training patterns. Similarly, the new test set was completed with SD-3 examples starting at pattern # 35,000 to make a full set with 60,000 test patterns. Only a subset of 10,000 test images (5,000 from SD-1 and 5,000 from SD-3) is available on this site. The full 60,000 sample training set is available.\\n\\nDownloaded from openml.org.\",\n",
       " 'details': {'id': '554',\n",
       "  'name': 'mnist_784',\n",
       "  'version': '1',\n",
       "  'format': 'ARFF',\n",
       "  'creator': ['Yann LeCun', 'Corinna Cortes', 'Christopher J.C. Burges'],\n",
       "  'upload_date': '2014-09-29T03:28:38',\n",
       "  'language': 'English',\n",
       "  'licence': 'Public',\n",
       "  'url': 'https://www.openml.org/data/v1/download/52667/mnist_784.arff',\n",
       "  'file_id': '52667',\n",
       "  'default_target_attribute': 'class',\n",
       "  'tag': ['AzurePilot',\n",
       "   'OpenML-CC18',\n",
       "   'OpenML100',\n",
       "   'study_1',\n",
       "   'study_123',\n",
       "   'study_41',\n",
       "   'study_99',\n",
       "   'vision'],\n",
       "  'visibility': 'public',\n",
       "  'minio_url': 'http://openml1.win.tue.nl/dataset554/dataset_554.pq',\n",
       "  'status': 'active',\n",
       "  'processing_date': '2020-11-20 20:12:09',\n",
       "  'md5_checksum': '0298d579eb1b86163de7723944c7e495'},\n",
       " 'url': 'https://www.openml.org/d/554'}"
      ]
     },
     "execution_count": 3,
     "metadata": {},
     "output_type": "execute_result"
    }
   ],
   "source": [
    "mnist"
   ]
  },
  {
   "cell_type": "code",
   "execution_count": 4,
   "metadata": {},
   "outputs": [],
   "source": [
    "x = mnist['data']"
   ]
  },
  {
   "cell_type": "code",
   "execution_count": 5,
   "metadata": {},
   "outputs": [],
   "source": [
    "y= mnist['target']"
   ]
  },
  {
   "cell_type": "code",
   "execution_count": 6,
   "metadata": {},
   "outputs": [
    {
     "data": {
      "text/plain": [
       "array([[0., 0., 0., ..., 0., 0., 0.],\n",
       "       [0., 0., 0., ..., 0., 0., 0.],\n",
       "       [0., 0., 0., ..., 0., 0., 0.],\n",
       "       ...,\n",
       "       [0., 0., 0., ..., 0., 0., 0.],\n",
       "       [0., 0., 0., ..., 0., 0., 0.],\n",
       "       [0., 0., 0., ..., 0., 0., 0.]])"
      ]
     },
     "execution_count": 6,
     "metadata": {},
     "output_type": "execute_result"
    }
   ],
   "source": [
    "x"
   ]
  },
  {
   "cell_type": "code",
   "execution_count": 7,
   "metadata": {},
   "outputs": [
    {
     "data": {
      "text/plain": [
       "array(['5', '0', '4', ..., '4', '5', '6'], dtype=object)"
      ]
     },
     "execution_count": 7,
     "metadata": {},
     "output_type": "execute_result"
    }
   ],
   "source": [
    "y"
   ]
  },
  {
   "cell_type": "code",
   "execution_count": 8,
   "metadata": {},
   "outputs": [
    {
     "data": {
      "text/plain": [
       "array([  0.,   0.,   0.,   0.,   0.,   0.,   0.,   0.,   0.,   0.,   0.,\n",
       "         0.,   0.,   0.,   0.,   0.,   0.,   0.,   0.,   0.,   0.,   0.,\n",
       "         0.,   0.,   0.,   0.,   0.,   0.,   0.,   0.,   0.,   0.,   0.,\n",
       "         0.,   0.,   0.,   0.,   0.,   0.,   0.,   0.,   0.,   0.,   0.,\n",
       "         0.,   0.,   0.,   0.,   0.,   0.,   0.,   0.,   0.,   0.,   0.,\n",
       "         0.,   0.,   0.,   0.,   0.,   0.,   0.,   0.,   0.,   0.,   0.,\n",
       "         0.,   0.,   0.,   0.,   0.,   0.,   0.,   0.,   0.,   0.,   0.,\n",
       "         0.,   0.,   0.,   0.,   0.,   0.,   0.,   0.,   0.,   0.,   0.,\n",
       "         0.,   0.,   0.,   0.,   0.,   0.,   0.,   0.,   0.,   0.,   0.,\n",
       "         0.,   0.,   0.,   0.,   0.,   0.,   0.,   0.,   0.,   0.,   0.,\n",
       "         0.,   0.,   0.,   0.,   0.,   0.,   0.,   0.,   0.,   0.,   0.,\n",
       "         0.,   0.,   0.,   0.,   0.,   0.,   0.,   0.,   0.,   0.,   0.,\n",
       "         0.,   0.,   0.,   0.,   0.,   0.,   0.,   0.,   0.,   0.,   0.,\n",
       "         0.,   0.,   0.,   0.,   0.,   0.,   0.,   0.,   0.,   3.,  18.,\n",
       "        18.,  18., 126., 136., 175.,  26., 166., 255., 247., 127.,   0.,\n",
       "         0.,   0.,   0.,   0.,   0.,   0.,   0.,   0.,   0.,   0.,   0.,\n",
       "        30.,  36.,  94., 154., 170., 253., 253., 253., 253., 253., 225.,\n",
       "       172., 253., 242., 195.,  64.,   0.,   0.,   0.,   0.,   0.,   0.,\n",
       "         0.,   0.,   0.,   0.,   0.,  49., 238., 253., 253., 253., 253.,\n",
       "       253., 253., 253., 253., 251.,  93.,  82.,  82.,  56.,  39.,   0.,\n",
       "         0.,   0.,   0.,   0.,   0.,   0.,   0.,   0.,   0.,   0.,   0.,\n",
       "        18., 219., 253., 253., 253., 253., 253., 198., 182., 247., 241.,\n",
       "         0.,   0.,   0.,   0.,   0.,   0.,   0.,   0.,   0.,   0.,   0.,\n",
       "         0.,   0.,   0.,   0.,   0.,   0.,   0.,  80., 156., 107., 253.,\n",
       "       253., 205.,  11.,   0.,  43., 154.,   0.,   0.,   0.,   0.,   0.,\n",
       "         0.,   0.,   0.,   0.,   0.,   0.,   0.,   0.,   0.,   0.,   0.,\n",
       "         0.,   0.,   0.,  14.,   1., 154., 253.,  90.,   0.,   0.,   0.,\n",
       "         0.,   0.,   0.,   0.,   0.,   0.,   0.,   0.,   0.,   0.,   0.,\n",
       "         0.,   0.,   0.,   0.,   0.,   0.,   0.,   0.,   0.,   0.,   0.,\n",
       "       139., 253., 190.,   2.,   0.,   0.,   0.,   0.,   0.,   0.,   0.,\n",
       "         0.,   0.,   0.,   0.,   0.,   0.,   0.,   0.,   0.,   0.,   0.,\n",
       "         0.,   0.,   0.,   0.,   0.,   0.,  11., 190., 253.,  70.,   0.,\n",
       "         0.,   0.,   0.,   0.,   0.,   0.,   0.,   0.,   0.,   0.,   0.,\n",
       "         0.,   0.,   0.,   0.,   0.,   0.,   0.,   0.,   0.,   0.,   0.,\n",
       "         0.,   0.,  35., 241., 225., 160., 108.,   1.,   0.,   0.,   0.,\n",
       "         0.,   0.,   0.,   0.,   0.,   0.,   0.,   0.,   0.,   0.,   0.,\n",
       "         0.,   0.,   0.,   0.,   0.,   0.,   0.,   0.,   0.,  81., 240.,\n",
       "       253., 253., 119.,  25.,   0.,   0.,   0.,   0.,   0.,   0.,   0.,\n",
       "         0.,   0.,   0.,   0.,   0.,   0.,   0.,   0.,   0.,   0.,   0.,\n",
       "         0.,   0.,   0.,   0.,   0.,  45., 186., 253., 253., 150.,  27.,\n",
       "         0.,   0.,   0.,   0.,   0.,   0.,   0.,   0.,   0.,   0.,   0.,\n",
       "         0.,   0.,   0.,   0.,   0.,   0.,   0.,   0.,   0.,   0.,   0.,\n",
       "         0.,  16.,  93., 252., 253., 187.,   0.,   0.,   0.,   0.,   0.,\n",
       "         0.,   0.,   0.,   0.,   0.,   0.,   0.,   0.,   0.,   0.,   0.,\n",
       "         0.,   0.,   0.,   0.,   0.,   0.,   0.,   0.,   0., 249., 253.,\n",
       "       249.,  64.,   0.,   0.,   0.,   0.,   0.,   0.,   0.,   0.,   0.,\n",
       "         0.,   0.,   0.,   0.,   0.,   0.,   0.,   0.,   0.,   0.,   0.,\n",
       "         0.,  46., 130., 183., 253., 253., 207.,   2.,   0.,   0.,   0.,\n",
       "         0.,   0.,   0.,   0.,   0.,   0.,   0.,   0.,   0.,   0.,   0.,\n",
       "         0.,   0.,   0.,   0.,   0.,  39., 148., 229., 253., 253., 253.,\n",
       "       250., 182.,   0.,   0.,   0.,   0.,   0.,   0.,   0.,   0.,   0.,\n",
       "         0.,   0.,   0.,   0.,   0.,   0.,   0.,   0.,   0.,  24., 114.,\n",
       "       221., 253., 253., 253., 253., 201.,  78.,   0.,   0.,   0.,   0.,\n",
       "         0.,   0.,   0.,   0.,   0.,   0.,   0.,   0.,   0.,   0.,   0.,\n",
       "         0.,   0.,  23.,  66., 213., 253., 253., 253., 253., 198.,  81.,\n",
       "         2.,   0.,   0.,   0.,   0.,   0.,   0.,   0.,   0.,   0.,   0.,\n",
       "         0.,   0.,   0.,   0.,   0.,   0.,  18., 171., 219., 253., 253.,\n",
       "       253., 253., 195.,  80.,   9.,   0.,   0.,   0.,   0.,   0.,   0.,\n",
       "         0.,   0.,   0.,   0.,   0.,   0.,   0.,   0.,   0.,   0.,  55.,\n",
       "       172., 226., 253., 253., 253., 253., 244., 133.,  11.,   0.,   0.,\n",
       "         0.,   0.,   0.,   0.,   0.,   0.,   0.,   0.,   0.,   0.,   0.,\n",
       "         0.,   0.,   0.,   0.,   0., 136., 253., 253., 253., 212., 135.,\n",
       "       132.,  16.,   0.,   0.,   0.,   0.,   0.,   0.,   0.,   0.,   0.,\n",
       "         0.,   0.,   0.,   0.,   0.,   0.,   0.,   0.,   0.,   0.,   0.,\n",
       "         0.,   0.,   0.,   0.,   0.,   0.,   0.,   0.,   0.,   0.,   0.,\n",
       "         0.,   0.,   0.,   0.,   0.,   0.,   0.,   0.,   0.,   0.,   0.,\n",
       "         0.,   0.,   0.,   0.,   0.,   0.,   0.,   0.,   0.,   0.,   0.,\n",
       "         0.,   0.,   0.,   0.,   0.,   0.,   0.,   0.,   0.,   0.,   0.,\n",
       "         0.,   0.,   0.,   0.,   0.,   0.,   0.,   0.,   0.,   0.,   0.,\n",
       "         0.,   0.,   0.,   0.,   0.,   0.,   0.,   0.,   0.,   0.,   0.,\n",
       "         0.,   0.,   0.,   0.,   0.,   0.,   0.,   0.,   0.,   0.,   0.,\n",
       "         0.,   0.,   0.])"
      ]
     },
     "execution_count": 8,
     "metadata": {},
     "output_type": "execute_result"
    }
   ],
   "source": [
    "x[0]"
   ]
  },
  {
   "cell_type": "code",
   "execution_count": 9,
   "metadata": {},
   "outputs": [
    {
     "data": {
      "text/plain": [
       "(70000, 784)"
      ]
     },
     "execution_count": 9,
     "metadata": {},
     "output_type": "execute_result"
    }
   ],
   "source": [
    "x.shape"
   ]
  },
  {
   "cell_type": "code",
   "execution_count": 10,
   "metadata": {},
   "outputs": [
    {
     "data": {
      "text/plain": [
       "(70000,)"
      ]
     },
     "execution_count": 10,
     "metadata": {},
     "output_type": "execute_result"
    }
   ],
   "source": [
    "y.shape"
   ]
  },
  {
   "cell_type": "code",
   "execution_count": 11,
   "metadata": {},
   "outputs": [],
   "source": [
    "%matplotlib inline"
   ]
  },
  {
   "cell_type": "code",
   "execution_count": 12,
   "metadata": {},
   "outputs": [],
   "source": [
    "import matplotlib\n",
    "import matplotlib.pyplot as plt"
   ]
  },
  {
   "cell_type": "code",
   "execution_count": 13,
   "metadata": {},
   "outputs": [],
   "source": [
    "some_digit = x[36]\n",
    "some_image = some_digit.reshape(28,28)"
   ]
  },
  {
   "cell_type": "code",
   "execution_count": 14,
   "metadata": {},
   "outputs": [
    {
     "data": {
      "text/plain": [
       "(-0.5, 27.5, 27.5, -0.5)"
      ]
     },
     "execution_count": 14,
     "metadata": {},
     "output_type": "execute_result"
    },
    {
     "data": {
      "image/png": "[encoded data removed]",
      "text/plain": [
       "<Figure size 432x288 with 1 Axes>"
      ]
     },
     "metadata": {
      "needs_background": "light"
     },
     "output_type": "display_data"
    }
   ],
   "source": [
    "plt.imshow(some_image , cmap=matplotlib.cm.binary , interpolation = \"nearest\")\n",
    "plt.axis(\"off\")"
   ]
  },
  {
   "cell_type": "code",
   "execution_count": 15,
   "metadata": {},
   "outputs": [
    {
     "data": {
      "text/plain": [
       "'6'"
      ]
     },
     "execution_count": 15,
     "metadata": {},
     "output_type": "execute_result"
    }
   ],
   "source": [
    "y[36]"
   ]
  },
  {
   "cell_type": "code",
   "execution_count": 16,
   "metadata": {},
   "outputs": [],
   "source": [
    "import warnings\n",
    "warnings.filterwarnings(\"ignore\")"
   ]
  },
  {
   "cell_type": "code",
   "execution_count": 69,
   "metadata": {},
   "outputs": [],
   "source": [
    "x_train = x[:600]\n",
    "x_test = x[600:10000]"
   ]
  },
  {
   "cell_type": "code",
   "execution_count": 70,
   "metadata": {},
   "outputs": [],
   "source": [
    "y_train = y[:600]\n",
    "y_test = y[600:10000]"
   ]
  },
  {
   "cell_type": "code",
   "execution_count": 71,
   "metadata": {},
   "outputs": [],
   "source": [
    "import numpy as np\n",
    "shuffle_index = np.random.permutation(600)\n",
    "x_train = x_train[shuffle_index]\n",
    "y_train = y_train[shuffle_index]"
   ]
  },
  {
   "cell_type": "markdown",
   "metadata": {},
   "source": [
    "## 6 detector"
   ]
  },
  {
   "cell_type": "code",
   "execution_count": 72,
   "metadata": {},
   "outputs": [],
   "source": [
    "y_train = y_train.astype(np.int8)\n",
    "y_train_6 = (y_train == 6)"
   ]
  },
  {
   "cell_type": "code",
   "execution_count": 73,
   "metadata": {},
   "outputs": [
    {
     "data": {
      "text/plain": [
       "array([7, 7, 1, 5, 6, 6, 3, 7, 8, 6, 8, 4, 1, 8, 0, 2, 0, 0, 3, 5, 4, 4,\n",
       "       6, 3, 2, 6, 3, 3, 1, 4, 6, 0, 5, 5, 0, 7, 5, 3, 8, 2, 4, 4, 3, 2,\n",
       "       0, 2, 1, 0, 5, 8, 1, 8, 0, 9, 5, 9, 2, 2, 5, 4, 7, 4, 9, 9, 2, 1,\n",
       "       6, 7, 4, 4, 4, 1, 2, 0, 0, 9, 5, 8, 8, 9, 6, 2, 8, 2, 4, 5, 2, 3,\n",
       "       6, 0, 5, 2, 6, 6, 6, 8, 3, 0, 4, 4, 8, 6, 5, 2, 3, 6, 9, 7, 7, 4,\n",
       "       4, 6, 3, 3, 9, 9, 8, 2, 9, 1, 8, 8, 5, 8, 6, 7, 2, 6, 8, 7, 2, 8,\n",
       "       1, 0, 5, 7, 7, 2, 8, 9, 4, 7, 0, 9, 0, 4, 4, 1, 3, 7, 2, 4, 8, 9,\n",
       "       4, 7, 4, 0, 2, 9, 0, 0, 1, 4, 0, 4, 3, 4, 8, 5, 1, 5, 9, 1, 9, 5,\n",
       "       9, 4, 2, 6, 8, 5, 1, 2, 0, 6, 2, 6, 1, 2, 6, 0, 2, 9, 7, 9, 8, 4,\n",
       "       0, 7, 9, 0, 7, 9, 2, 2, 1, 9, 8, 9, 8, 5, 2, 0, 3, 4, 9, 4, 0, 4,\n",
       "       5, 3, 4, 6, 1, 1, 1, 2, 6, 1, 9, 2, 9, 3, 0, 3, 9, 7, 3, 2, 2, 8,\n",
       "       3, 7, 4, 1, 7, 6, 3, 5, 9, 5, 4, 7, 1, 0, 0, 2, 2, 0, 1, 4, 7, 0,\n",
       "       9, 6, 7, 5, 2, 3, 9, 7, 7, 8, 1, 9, 7, 1, 7, 3, 1, 7, 0, 7, 4, 8,\n",
       "       3, 7, 2, 0, 9, 8, 3, 3, 0, 3, 9, 2, 1, 3, 6, 0, 2, 3, 4, 5, 1, 2,\n",
       "       0, 8, 9, 4, 3, 7, 6, 3, 3, 4, 3, 9, 2, 4, 4, 9, 2, 1, 1, 9, 5, 7,\n",
       "       9, 2, 4, 2, 1, 2, 0, 5, 1, 4, 1, 3, 1, 3, 8, 5, 7, 9, 3, 7, 0, 3,\n",
       "       5, 3, 1, 6, 1, 2, 9, 6, 8, 9, 3, 7, 6, 7, 1, 1, 1, 0, 6, 7, 1, 8,\n",
       "       6, 8, 9, 0, 8, 5, 1, 1, 3, 1, 1, 4, 4, 2, 4, 1, 1, 2, 0, 1, 9, 4,\n",
       "       3, 3, 4, 2, 3, 1, 5, 4, 3, 7, 2, 9, 1, 8, 7, 6, 0, 2, 7, 4, 5, 7,\n",
       "       7, 9, 4, 6, 2, 4, 8, 1, 2, 1, 5, 7, 4, 5, 9, 0, 8, 6, 1, 8, 7, 9,\n",
       "       5, 1, 5, 9, 7, 6, 1, 3, 1, 6, 6, 7, 7, 2, 8, 2, 7, 4, 5, 5, 6, 0,\n",
       "       4, 9, 3, 5, 7, 3, 1, 1, 1, 0, 6, 1, 9, 8, 9, 5, 9, 4, 6, 3, 2, 6,\n",
       "       6, 7, 8, 0, 7, 5, 5, 2, 0, 2, 8, 9, 9, 3, 8, 6, 1, 1, 7, 9, 0, 9,\n",
       "       1, 9, 1, 1, 5, 1, 1, 1, 1, 7, 3, 7, 7, 1, 2, 7, 6, 2, 6, 8, 2, 0,\n",
       "       9, 2, 3, 5, 5, 7, 3, 2, 5, 6, 5, 7, 1, 4, 4, 0, 5, 5, 0, 8, 8, 3,\n",
       "       1, 6, 6, 5, 8, 0, 1, 1, 6, 7, 3, 9, 3, 5, 1, 8, 6, 1, 0, 7, 9, 3,\n",
       "       9, 4, 1, 2, 9, 3, 0, 0, 1, 8, 0, 5, 3, 7, 6, 2, 9, 4, 9, 0, 6, 9,\n",
       "       6, 0, 0, 3, 1, 1], dtype=int8)"
      ]
     },
     "execution_count": 73,
     "metadata": {},
     "output_type": "execute_result"
    }
   ],
   "source": [
    "y_train"
   ]
  },
  {
   "cell_type": "code",
   "execution_count": 74,
   "metadata": {},
   "outputs": [],
   "source": [
    "y_test = y_test.astype(np.int8)\n",
    "y_test_6 = (y_test==6)"
   ]
  },
  {
   "cell_type": "code",
   "execution_count": 75,
   "metadata": {},
   "outputs": [
    {
     "data": {
      "text/plain": [
       "array([False, False, False, ...,  True, False, False])"
      ]
     },
     "execution_count": 75,
     "metadata": {},
     "output_type": "execute_result"
    }
   ],
   "source": [
    "y_test_6"
   ]
  },
  {
   "cell_type": "code",
   "execution_count": 76,
   "metadata": {},
   "outputs": [],
   "source": [
    "from sklearn.linear_model import LogisticRegression"
   ]
  },
  {
   "cell_type": "code",
   "execution_count": 77,
   "metadata": {},
   "outputs": [],
   "source": [
    "model = LogisticRegression()"
   ]
  },
  {
   "cell_type": "code",
   "execution_count": 78,
   "metadata": {},
   "outputs": [
    {
     "data": {
      "text/plain": [
       "LogisticRegression()"
      ]
     },
     "execution_count": 78,
     "metadata": {},
     "output_type": "execute_result"
    }
   ],
   "source": [
    "model.fit(x_train,y_train_6) # Binary Classifier"
   ]
  },
  {
   "cell_type": "code",
   "execution_count": 79,
   "metadata": {},
   "outputs": [
    {
     "data": {
      "text/plain": [
       "array([ True])"
      ]
     },
     "execution_count": 79,
     "metadata": {},
     "output_type": "execute_result"
    }
   ],
   "source": [
    "model.predict([some_digit])"
   ]
  },
  {
   "cell_type": "code",
   "execution_count": 80,
   "metadata": {},
   "outputs": [],
   "source": [
    "from sklearn.model_selection import cross_val_score"
   ]
  },
  {
   "cell_type": "code",
   "execution_count": 81,
   "metadata": {},
   "outputs": [],
   "source": [
    "a = cross_val_score(model, x_train , y_train_6 , cv=3, scoring='accuracy')"
   ]
  },
  {
   "cell_type": "code",
   "execution_count": 82,
   "metadata": {},
   "outputs": [
    {
     "data": {
      "text/plain": [
       "0.9816666666666668"
      ]
     },
     "execution_count": 82,
     "metadata": {},
     "output_type": "execute_result"
    }
   ],
   "source": [
    "a.mean()"
   ]
  },
  {
   "cell_type": "code",
   "execution_count": 83,
   "metadata": {},
   "outputs": [],
   "source": [
    "from sklearn.model_selection import cross_val_predict"
   ]
  },
  {
   "cell_type": "code",
   "execution_count": 84,
   "metadata": {},
   "outputs": [],
   "source": [
    "y_train_pred = cross_val_predict(model, x_train , y_train_6 , cv=3)"
   ]
  },
  {
   "cell_type": "code",
   "execution_count": 85,
   "metadata": {},
   "outputs": [
    {
     "data": {
      "text/plain": [
       "array([False, False, False, False,  True, False, False, False, False,\n",
       "       False, False, False, False, False, False, False, False, False,\n",
       "       False, False, False, False,  True, False, False, False, False,\n",
       "       False, False, False,  True, False, False, False, False, False,\n",
       "       False, False, False, False, False, False, False, False, False,\n",
       "       False, False, False, False, False, False, False, False, False,\n",
       "       False, False, False, False, False, False, False, False, False,\n",
       "       False, False, False, False, False, False, False, False, False,\n",
       "       False, False, False, False, False, False, False, False,  True,\n",
       "       False, False, False, False, False, False, False,  True, False,\n",
       "       False, False, False,  True,  True, False, False, False, False,\n",
       "       False, False,  True, False, False, False, False, False, False,\n",
       "       False, False, False, False, False, False, False, False, False,\n",
       "       False, False, False, False, False, False, False,  True, False,\n",
       "       False,  True, False, False, False, False, False, False, False,\n",
       "       False, False, False, False, False, False, False, False, False,\n",
       "       False, False, False, False, False, False, False, False, False,\n",
       "       False, False, False, False, False, False, False, False, False,\n",
       "       False, False, False, False, False, False, False, False, False,\n",
       "        True, False, False, False, False, False, False, False,  True,\n",
       "       False, False, False, False, False,  True, False,  True, False,\n",
       "       False,  True, False, False, False, False, False, False, False,\n",
       "       False, False, False, False, False, False, False, False, False,\n",
       "       False, False, False, False, False, False, False, False, False,\n",
       "       False, False, False, False, False, False, False,  True, False,\n",
       "       False, False, False,  True, False, False, False, False, False,\n",
       "       False, False, False, False, False, False, False, False, False,\n",
       "       False, False, False, False,  True, False, False, False, False,\n",
       "       False, False, False, False, False, False, False, False, False,\n",
       "       False, False, False, False,  True, False, False, False, False,\n",
       "       False, False, False, False, False, False, False, False, False,\n",
       "       False, False, False, False, False, False, False, False, False,\n",
       "       False, False, False, False, False, False, False, False, False,\n",
       "       False, False, False,  True, False, False, False, False, False,\n",
       "       False, False, False, False, False, False, False, False,  True,\n",
       "       False, False, False, False, False, False, False, False, False,\n",
       "        True, False, False, False, False, False, False, False, False,\n",
       "       False, False, False, False, False, False, False, False, False,\n",
       "       False, False, False, False, False, False, False, False, False,\n",
       "       False, False, False, False,  True, False, False, False,  True,\n",
       "       False, False, False, False,  True, False, False, False, False,\n",
       "       False,  True, False, False, False,  True, False, False, False,\n",
       "       False, False, False, False, False, False, False, False, False,\n",
       "       False, False, False, False, False, False, False, False, False,\n",
       "       False, False, False, False, False, False, False, False, False,\n",
       "       False, False, False, False, False, False,  True, False, False,\n",
       "       False, False, False, False, False, False, False,  True, False,\n",
       "       False, False, False, False, False, False, False, False, False,\n",
       "       False, False, False,  True, False, False, False, False, False,\n",
       "       False, False, False, False,  True, False, False, False,  True,\n",
       "        True, False, False, False, False, False, False, False, False,\n",
       "       False,  True, False, False, False, False, False, False, False,\n",
       "       False, False, False, False,  True, False, False, False, False,\n",
       "       False, False, False, False, False, False,  True,  True, False,\n",
       "       False, False, False, False, False, False, False, False, False,\n",
       "       False, False, False, False,  True, False, False, False, False,\n",
       "       False, False, False, False, False, False, False, False, False,\n",
       "       False, False, False, False, False, False, False, False, False,\n",
       "        True, False,  True, False, False, False, False, False, False,\n",
       "       False, False, False, False, False, False,  True, False, False,\n",
       "       False, False, False, False, False, False, False, False, False,\n",
       "       False, False,  True,  True, False, False, False, False, False,\n",
       "        True, False, False, False, False, False, False, False,  True,\n",
       "       False, False, False, False, False, False, False, False, False,\n",
       "       False, False, False, False, False, False,  True, False, False,\n",
       "       False,  True, False, False, False, False, False,  True, False,\n",
       "        True, False, False, False, False, False])"
      ]
     },
     "execution_count": 85,
     "metadata": {},
     "output_type": "execute_result"
    }
   ],
   "source": [
    "y_train_pred"
   ]
  },
  {
   "cell_type": "code",
   "execution_count": 86,
   "metadata": {},
   "outputs": [],
   "source": [
    "from sklearn.metrics import confusion_matrix"
   ]
  },
  {
   "cell_type": "code",
   "execution_count": 87,
   "metadata": {},
   "outputs": [
    {
     "data": {
      "text/plain": [
       "array([[543,   3],\n",
       "       [  8,  46]], dtype=int64)"
      ]
     },
     "execution_count": 87,
     "metadata": {},
     "output_type": "execute_result"
    }
   ],
   "source": [
    "confusion_matrix(y_train_6, y_train_pred)"
   ]
  },
  {
   "cell_type": "code",
   "execution_count": 88,
   "metadata": {},
   "outputs": [
    {
     "data": {
      "text/plain": [
       "array([[546,   0],\n",
       "       [  0,  54]], dtype=int64)"
      ]
     },
     "execution_count": 88,
     "metadata": {},
     "output_type": "execute_result"
    }
   ],
   "source": [
    "confusion_matrix(y_train_6, y_train_6)"
   ]
  },
  {
   "cell_type": "code",
   "execution_count": 89,
   "metadata": {},
   "outputs": [],
   "source": [
    "from sklearn.metrics import precision_score, recall_score"
   ]
  },
  {
   "cell_type": "code",
   "execution_count": 90,
   "metadata": {},
   "outputs": [
    {
     "data": {
      "text/plain": [
       "0.9387755102040817"
      ]
     },
     "execution_count": 90,
     "metadata": {},
     "output_type": "execute_result"
    }
   ],
   "source": [
    "precision_score(y_train_6, y_train_pred)"
   ]
  },
  {
   "cell_type": "code",
   "execution_count": 91,
   "metadata": {},
   "outputs": [
    {
     "data": {
      "text/plain": [
       "0.8518518518518519"
      ]
     },
     "execution_count": 91,
     "metadata": {},
     "output_type": "execute_result"
    }
   ],
   "source": [
    "recall_score(y_train_6, y_train_pred)"
   ]
  },
  {
   "cell_type": "code",
   "execution_count": 92,
   "metadata": {},
   "outputs": [],
   "source": [
    "from sklearn.metrics import f1_score"
   ]
  },
  {
   "cell_type": "code",
   "execution_count": 93,
   "metadata": {},
   "outputs": [
    {
     "data": {
      "text/plain": [
       "0.8932038834951458"
      ]
     },
     "execution_count": 93,
     "metadata": {},
     "output_type": "execute_result"
    }
   ],
   "source": [
    "f1_score(y_train_6, y_train_pred)"
   ]
  },
  {
   "cell_type": "code",
   "execution_count": 94,
   "metadata": {},
   "outputs": [],
   "source": [
    "from sklearn.metrics import precision_recall_curve"
   ]
  },
  {
   "cell_type": "code",
   "execution_count": 95,
   "metadata": {},
   "outputs": [],
   "source": [
    "y_scores = cross_val_predict(model, x_train , y_train_6 , cv=3, method ='decision_function')"
   ]
  },
  {
   "cell_type": "code",
   "execution_count": 96,
   "metadata": {},
   "outputs": [
    {
     "data": {
      "text/plain": [
       "array([-32.98281448, -49.5889846 , -26.08342814, -20.87335399,\n",
       "        19.50384834, -31.26156827, -47.42754044, -21.33800289,\n",
       "       -42.79453873,  -4.28180092, -26.9626737 , -18.33214045,\n",
       "       -20.1749349 , -27.72178641, -30.12115672, -26.08553176,\n",
       "       -27.19681989, -18.18369099, -26.71117283, -16.95878394,\n",
       "       -16.41337035, -12.55998249,   8.65003167, -44.7844813 ,\n",
       "       -19.31239347,  -0.25508734, -50.59964667, -39.78250865,\n",
       "       -13.36614441, -18.93257153,  17.03204821, -53.41357641,\n",
       "       -18.04305542, -24.0327655 , -34.24201712, -23.02261784,\n",
       "       -33.65924095, -34.15767118, -26.38863846, -14.72664912,\n",
       "       -23.16009806, -23.07946313, -21.87336429, -19.81403538,\n",
       "       -41.85730951, -15.34277988, -15.81905247, -31.63193154,\n",
       "       -55.05735366, -26.43008693, -15.35696544, -20.7828461 ,\n",
       "       -37.57072972,  -7.86909694, -22.33199899, -26.13781604,\n",
       "       -23.03184902, -21.77266275, -32.16167941, -14.92186298,\n",
       "       -35.51465146, -19.03458286, -20.74573371, -22.51875366,\n",
       "       -22.10412197, -19.08089708,  -3.70852864, -38.02492517,\n",
       "       -18.02406238, -11.31526824, -21.79087334, -21.5595562 ,\n",
       "       -69.41069744, -21.24744807, -44.60876714, -27.1230117 ,\n",
       "       -10.43970691, -32.87482407, -22.32019041, -12.48084102,\n",
       "        31.63776143, -16.61326019, -31.25258855, -17.45933651,\n",
       "       -22.20175041, -17.60020866, -37.46612506, -45.95825309,\n",
       "        20.55772012, -45.4207604 , -13.12512251,  -9.67491595,\n",
       "       -16.31605831,   8.81748326,  12.38416587, -23.07406704,\n",
       "       -44.95056659, -47.52750694, -15.79180573, -10.48704792,\n",
       "       -33.84298187,  11.61367383, -18.47513651, -34.10854833,\n",
       "       -31.44655284, -26.63107937, -14.25688906, -45.94621801,\n",
       "       -35.81609474,  -8.24781374, -17.65820218,  -1.28647082,\n",
       "       -54.87798555, -47.7327803 , -29.49097745, -24.59617544,\n",
       "       -19.19117641, -14.17776725, -25.60259178, -16.70457612,\n",
       "       -12.67306439, -19.09485858, -15.63835958, -21.49646271,\n",
       "        15.53438255, -43.95059671, -51.5566377 ,  11.61182672,\n",
       "       -41.90798955, -43.4873451 ,  -2.75235695,  -8.20008709,\n",
       "       -22.94262164, -37.52668856, -23.56500162, -45.76284535,\n",
       "       -34.06818252, -50.77133283, -12.9961305 , -20.7156813 ,\n",
       "       -12.93120015, -41.58191079, -58.18276942, -23.72307042,\n",
       "       -33.39268881, -17.24517177, -25.46679858, -16.4406417 ,\n",
       "       -33.61715896, -34.07424973, -10.03767427, -12.11723212,\n",
       "       -35.5087384 , -25.1472368 , -15.03984026, -37.89478552,\n",
       "       -13.23723015, -38.34843125, -10.10580056, -26.47890584,\n",
       "       -53.37089781,  -7.76771564, -21.82521038, -16.79550485,\n",
       "       -30.87750345, -32.50257406, -40.42650093, -27.39809152,\n",
       "       -14.88410535, -18.24223785, -18.27344879,   1.42917841,\n",
       "       -28.60680428, -16.85037575, -13.49194885, -39.51681629,\n",
       "       -25.43754248, -16.62438536, -24.55893201,  23.32206647,\n",
       "       -37.62004669, -27.29312676,  -8.56521285, -22.67631946,\n",
       "       -47.00637865,  22.76655669, -56.16675645,  12.18405998,\n",
       "       -17.88339426, -30.99850422,  20.423959  , -58.04392742,\n",
       "        -8.93934978, -20.06031781, -33.91412581, -25.13663022,\n",
       "       -17.30038941, -13.81973263, -21.99085078, -21.49186451,\n",
       "       -13.48464473, -19.56347396, -29.7041258 , -26.59562968,\n",
       "        -8.58330422, -14.88998362, -22.22179992, -27.38993692,\n",
       "       -28.69459968, -15.22948912, -30.41687969, -28.64936775,\n",
       "       -17.81457913, -13.60235249, -60.46135031, -20.4841879 ,\n",
       "       -31.3797364 , -20.28416704, -32.54660784, -26.23251441,\n",
       "       -36.9247575 , -25.84473802, -41.9064396 ,  18.48667012,\n",
       "       -21.45309828, -22.02397921, -29.76575262,  -9.52140859,\n",
       "        23.0149654 , -12.14557512, -29.6582406 , -27.23486359,\n",
       "       -14.34045515, -35.45942308, -48.30975705, -30.34681004,\n",
       "       -27.38462284, -28.93400218, -34.61652462, -36.13371996,\n",
       "       -29.54147663, -17.07641356,  -9.5932663 , -42.50437501,\n",
       "        -6.83414707, -27.80871668, -39.17125865,  15.65173817,\n",
       "       -44.44537865, -19.01800143, -27.54548814, -22.77184693,\n",
       "       -31.68632058, -33.97747661, -15.99378703, -37.59433304,\n",
       "       -39.62820676, -19.14724225, -27.74985631, -44.9277345 ,\n",
       "       -21.02509547, -27.22761511, -27.84080554, -19.48195487,\n",
       "        -9.1841276 ,   0.33290707, -37.54135597, -31.24918708,\n",
       "       -26.74845709, -28.34020577, -27.51536006, -24.57456978,\n",
       "       -22.80596824, -27.30814209, -23.60913315, -20.1196779 ,\n",
       "       -26.47318097, -14.79867082, -41.1371545 , -69.16070584,\n",
       "       -18.23758885, -31.42861768, -46.73969056, -38.8178582 ,\n",
       "       -25.56245906, -28.63364425, -23.79963293, -41.82368936,\n",
       "       -26.07912148, -29.91712331, -20.24223327, -56.7819291 ,\n",
       "       -54.19892245, -45.18676219, -26.02373141, -28.33148422,\n",
       "       -31.27518819, -25.02274352, -15.32145568, -21.16078215,\n",
       "        26.1276866 , -13.23142095, -31.9441803 , -49.15768928,\n",
       "       -39.97683269, -36.43632901, -15.38769092, -27.22651941,\n",
       "       -57.75134691, -62.46141315, -30.04378829,  -8.68546772,\n",
       "       -45.05663745, -37.43386425,  22.042467  , -37.37388534,\n",
       "       -67.07096766,  -8.00065481, -30.33812636, -21.00073535,\n",
       "       -18.76588617, -25.38822872, -18.13463393, -29.33694869,\n",
       "        16.38761478, -51.734654  , -22.80747909, -37.4579434 ,\n",
       "       -28.24400505, -40.81717216, -28.91776965, -25.724621  ,\n",
       "       -11.95457211, -16.65788174,  -9.1653869 , -22.81051263,\n",
       "       -24.06962291, -20.76744047, -20.20557308, -17.819977  ,\n",
       "       -15.88215856, -35.25381192, -18.29778094, -63.42469929,\n",
       "       -31.83825738, -29.40345399, -37.52851045, -31.29496373,\n",
       "       -51.50572792, -40.79553291, -24.691053  , -11.28066764,\n",
       "       -24.94343486, -64.29512037, -32.10386188,  13.36979836,\n",
       "       -16.80588031, -24.41443878, -17.67318558,  11.00555417,\n",
       "       -43.46313447, -34.52228672, -50.86756321, -14.80462539,\n",
       "         1.13273041, -41.74927577, -21.51956882, -27.2910347 ,\n",
       "       -14.69314095, -76.9651287 ,  30.22264988, -35.66123968,\n",
       "       -16.99579581, -52.574981  ,  27.79928697, -37.53478692,\n",
       "       -26.75000572, -56.79883323, -13.58070662, -38.59324826,\n",
       "       -25.19091505, -25.66286529, -40.50534779, -17.12692755,\n",
       "       -15.81496337, -25.90287512, -17.77348076, -31.90938358,\n",
       "       -13.16920248, -17.006571  , -14.56356102, -12.97269458,\n",
       "       -53.53231694, -14.58427708, -11.11505966,  -3.98638414,\n",
       "       -36.38781659, -63.87199645, -17.4380517 , -19.85971549,\n",
       "       -28.7436881 , -10.19568094, -20.04591982,  -2.67420203,\n",
       "       -29.80007609, -32.04887666, -32.14487551, -35.16919029,\n",
       "       -12.46725918, -41.67510187, -18.19337289,  17.99307052,\n",
       "       -20.17471698,  -0.33950103, -19.17806803, -15.68445876,\n",
       "       -18.79999191, -34.18884662, -41.40173052,  -5.95062326,\n",
       "       -23.37886953,  10.05856065, -50.99691472, -14.72120036,\n",
       "       -33.04917985, -34.21355367, -14.01330501, -34.86709811,\n",
       "       -10.10840344,  -5.79251493, -18.74048738, -27.79629351,\n",
       "       -20.87480559, -12.61484423, -42.60520599,  15.80234576,\n",
       "       -20.54011805, -16.61767938, -32.96147658, -31.13638111,\n",
       "       -33.75558068, -20.18581949, -57.31583373, -33.26560832,\n",
       "       -26.85492868,   3.12971578, -30.64798559, -44.56988123,\n",
       "       -25.72975104,  15.08642325,  16.64632675, -26.12928735,\n",
       "       -41.38601839, -12.04645507, -40.04475597, -12.80127505,\n",
       "       -32.53386961, -28.27354837, -16.98148626, -26.85829695,\n",
       "        23.0023359 , -39.82307969, -18.60741332, -21.58371838,\n",
       "       -51.5658028 , -22.74430229, -49.04725139, -31.97260066,\n",
       "       -31.40842989,  -9.55035005, -16.3539864 , -49.40511352,\n",
       "        19.71663763, -13.53944478, -28.2730039 , -31.70100864,\n",
       "       -11.86357623, -40.20419236, -35.44703488,  -6.60612075,\n",
       "        -9.86778404, -61.57237106, -27.62414325,  13.3660137 ,\n",
       "        21.19927792, -52.76861575, -35.26531929, -32.46429613,\n",
       "       -23.73186762, -23.32111438, -30.92536045,  -3.22016607,\n",
       "       -34.97569428, -20.41238243, -16.15920481, -32.07614533,\n",
       "       -31.6950669 , -10.45388025, -34.55375719,  10.91174646,\n",
       "       -18.43691985,  -9.83224211, -29.15660292, -23.47387157,\n",
       "       -40.27372576, -34.29125068, -23.79435003, -30.66970204,\n",
       "       -15.41766954, -33.37178445, -33.37556253, -20.10368085,\n",
       "       -19.17774143, -17.15114228, -15.83088674, -29.88682629,\n",
       "       -23.02929492, -25.92054389, -34.30985596, -19.67796438,\n",
       "        -1.78110417, -18.0313812 ,   1.47474779, -33.54115372,\n",
       "        22.75099621, -34.46091062, -32.95172121, -21.10214214,\n",
       "       -45.22669157, -15.20693511, -26.16897065, -16.20844747,\n",
       "       -37.657486  , -25.65228885, -56.58461554, -13.93234554,\n",
       "       -14.98046816,   9.75256614, -30.66599995, -11.93383559,\n",
       "       -25.76891058, -15.90390045, -14.17382211, -18.18587196,\n",
       "       -20.31741881, -21.54196054, -39.62794774,  -5.66165539,\n",
       "        -6.75391065, -32.77485411, -17.99930794,   4.80796023,\n",
       "         7.26849135, -30.12208307, -23.76719765, -32.38703915,\n",
       "       -25.61468495, -27.74493434,   0.88253725, -38.69270846,\n",
       "       -48.27226718, -26.21042973, -49.90120297, -22.65188168,\n",
       "       -24.22346778, -30.62155974,  13.09633348, -28.59880247,\n",
       "       -15.7066934 , -44.66509426, -37.89954845, -51.00343708,\n",
       "       -34.24351878, -24.50128113, -21.62449046, -15.53023114,\n",
       "       -34.36247058, -18.30217118, -45.87114081, -42.78809744,\n",
       "       -25.25537134, -38.78291816,   6.01339339, -19.45822959,\n",
       "       -80.65943384, -32.85401729,  13.67077291,  -6.56605717,\n",
       "       -25.7167607 ,  -9.71733999, -35.58693799, -18.98010589,\n",
       "        23.56492013, -20.55751355,  18.49714832, -50.46869825,\n",
       "       -15.21595723, -54.07951896, -17.70462442, -15.1376156 ])"
      ]
     },
     "execution_count": 96,
     "metadata": {},
     "output_type": "execute_result"
    }
   ],
   "source": [
    "y_scores"
   ]
  },
  {
   "cell_type": "code",
   "execution_count": 97,
   "metadata": {},
   "outputs": [],
   "source": [
    "precisions, recalls, thresholds = precision_recall_curve(y_train_6, y_scores)"
   ]
  },
  {
   "cell_type": "code",
   "execution_count": 98,
   "metadata": {},
   "outputs": [
    {
     "data": {
      "text/plain": [
       "array([0.13138686, 0.12926829, 0.12958435, 0.12990196, 0.13022113,\n",
       "       0.13054187, 0.1308642 , 0.13118812, 0.13151365, 0.1318408 ,\n",
       "       0.13216958, 0.1325    , 0.13283208, 0.13316583, 0.13350126,\n",
       "       0.13383838, 0.13417722, 0.13451777, 0.13486005, 0.13520408,\n",
       "       0.13554987, 0.13589744, 0.13624679, 0.13659794, 0.1369509 ,\n",
       "       0.1373057 , 0.13766234, 0.13802083, 0.1383812 , 0.13874346,\n",
       "       0.13910761, 0.13947368, 0.13984169, 0.14021164, 0.14058355,\n",
       "       0.14095745, 0.14133333, 0.14171123, 0.14209115, 0.14247312,\n",
       "       0.14285714, 0.14324324, 0.14363144, 0.14402174, 0.14441417,\n",
       "       0.14480874, 0.14520548, 0.1456044 , 0.14600551, 0.14640884,\n",
       "       0.1468144 , 0.14722222, 0.14763231, 0.14804469, 0.14845938,\n",
       "       0.1488764 , 0.14929577, 0.14971751, 0.15014164, 0.15056818,\n",
       "       0.15099715, 0.15142857, 0.15186246, 0.15229885, 0.15273775,\n",
       "       0.15317919, 0.15362319, 0.15406977, 0.1516035 , 0.15204678,\n",
       "       0.15249267, 0.15294118, 0.15339233, 0.15384615, 0.15430267,\n",
       "       0.1547619 , 0.15522388, 0.15568862, 0.15615616, 0.15662651,\n",
       "       0.1570997 , 0.15757576, 0.15805471, 0.15853659, 0.15902141,\n",
       "       0.1595092 , 0.16      , 0.16049383, 0.16099071, 0.16149068,\n",
       "       0.16199377, 0.1625    , 0.1630094 , 0.16352201, 0.16403785,\n",
       "       0.16455696, 0.16507937, 0.1656051 , 0.16613419, 0.16666667,\n",
       "       0.16720257, 0.16774194, 0.16828479, 0.16883117, 0.16938111,\n",
       "       0.16993464, 0.1704918 , 0.17105263, 0.17161716, 0.17218543,\n",
       "       0.17275748, 0.17333333, 0.17391304, 0.17449664, 0.17508418,\n",
       "       0.17567568, 0.17627119, 0.17687075, 0.1774744 , 0.17808219,\n",
       "       0.17869416, 0.17931034, 0.1799308 , 0.18055556, 0.18118467,\n",
       "       0.18181818, 0.18245614, 0.18309859, 0.18374558, 0.18439716,\n",
       "       0.18505338, 0.18571429, 0.18637993, 0.18705036, 0.18772563,\n",
       "       0.1884058 , 0.18909091, 0.18978102, 0.19047619, 0.19117647,\n",
       "       0.19188192, 0.19259259, 0.19330855, 0.19402985, 0.19475655,\n",
       "       0.19548872, 0.19622642, 0.1969697 , 0.19771863, 0.19847328,\n",
       "       0.19923372, 0.2       , 0.2007722 , 0.20155039, 0.20233463,\n",
       "       0.203125  , 0.20392157, 0.20472441, 0.2055336 , 0.20634921,\n",
       "       0.20717131, 0.208     , 0.20883534, 0.20967742, 0.21052632,\n",
       "       0.21138211, 0.2122449 , 0.21311475, 0.21399177, 0.21487603,\n",
       "       0.21576763, 0.21666667, 0.21757322, 0.21848739, 0.21940928,\n",
       "       0.22033898, 0.2212766 , 0.22222222, 0.22317597, 0.22413793,\n",
       "       0.22510823, 0.22608696, 0.22707424, 0.22807018, 0.22907489,\n",
       "       0.2300885 , 0.23111111, 0.23214286, 0.23318386, 0.23423423,\n",
       "       0.23529412, 0.23636364, 0.23744292, 0.23853211, 0.23963134,\n",
       "       0.24074074, 0.24186047, 0.24299065, 0.24413146, 0.24528302,\n",
       "       0.2464455 , 0.24761905, 0.24880383, 0.25      , 0.25120773,\n",
       "       0.25242718, 0.25365854, 0.25490196, 0.25615764, 0.25742574,\n",
       "       0.25870647, 0.26      , 0.26130653, 0.26262626, 0.26395939,\n",
       "       0.26530612, 0.26666667, 0.26804124, 0.26943005, 0.27083333,\n",
       "       0.27225131, 0.27368421, 0.27513228, 0.27659574, 0.27807487,\n",
       "       0.27956989, 0.28108108, 0.2826087 , 0.28415301, 0.28571429,\n",
       "       0.28729282, 0.28888889, 0.29050279, 0.29213483, 0.29378531,\n",
       "       0.29545455, 0.29714286, 0.29885057, 0.30057803, 0.30232558,\n",
       "       0.30409357, 0.30588235, 0.30769231, 0.30952381, 0.31137725,\n",
       "       0.31325301, 0.31515152, 0.31707317, 0.3190184 , 0.32098765,\n",
       "       0.32298137, 0.31875   , 0.32075472, 0.32278481, 0.32484076,\n",
       "       0.32692308, 0.32903226, 0.33116883, 0.33333333, 0.33552632,\n",
       "       0.33774834, 0.34      , 0.34228188, 0.34459459, 0.34693878,\n",
       "       0.34931507, 0.35172414, 0.35416667, 0.35664336, 0.35915493,\n",
       "       0.36170213, 0.36428571, 0.36690647, 0.36956522, 0.37226277,\n",
       "       0.375     , 0.37777778, 0.38059701, 0.38345865, 0.38636364,\n",
       "       0.38931298, 0.39230769, 0.39534884, 0.3984375 , 0.4015748 ,\n",
       "       0.4047619 , 0.408     , 0.41129032, 0.41463415, 0.41803279,\n",
       "       0.4214876 , 0.425     , 0.42857143, 0.43220339, 0.43589744,\n",
       "       0.43965517, 0.44347826, 0.44736842, 0.45132743, 0.45535714,\n",
       "       0.45945946, 0.46363636, 0.46788991, 0.47222222, 0.47663551,\n",
       "       0.48113208, 0.48571429, 0.49038462, 0.49514563, 0.5       ,\n",
       "       0.5049505 , 0.51      , 0.51515152, 0.52040816, 0.5257732 ,\n",
       "       0.53125   , 0.53684211, 0.54255319, 0.5483871 , 0.55434783,\n",
       "       0.56043956, 0.56666667, 0.57303371, 0.57954545, 0.5862069 ,\n",
       "       0.59302326, 0.6       , 0.60714286, 0.60240964, 0.6097561 ,\n",
       "       0.61728395, 0.625     , 0.63291139, 0.64102564, 0.64935065,\n",
       "       0.65789474, 0.66666667, 0.67567568, 0.68493151, 0.69444444,\n",
       "       0.70422535, 0.71428571, 0.72463768, 0.73529412, 0.74626866,\n",
       "       0.75757576, 0.76923077, 0.78125   , 0.79365079, 0.80645161,\n",
       "       0.81967213, 0.83333333, 0.84745763, 0.84482759, 0.85964912,\n",
       "       0.85714286, 0.87272727, 0.88888889, 0.90566038, 0.92307692,\n",
       "       0.92156863, 0.94      , 0.93877551, 0.9375    , 0.93617021,\n",
       "       0.93478261, 0.95555556, 0.95454545, 0.95348837, 0.95238095,\n",
       "       0.97560976, 0.975     , 0.97435897, 0.97368421, 0.97297297,\n",
       "       0.97222222, 0.97142857, 0.97058824, 0.96969697, 0.96875   ,\n",
       "       0.96774194, 0.96666667, 0.96551724, 0.96428571, 0.96296296,\n",
       "       0.96153846, 0.96      , 0.95833333, 0.95652174, 0.95454545,\n",
       "       1.        , 1.        , 1.        , 1.        , 1.        ,\n",
       "       1.        , 1.        , 1.        , 1.        , 1.        ,\n",
       "       1.        , 1.        , 1.        , 1.        , 1.        ,\n",
       "       1.        , 1.        , 1.        , 1.        , 1.        ,\n",
       "       1.        , 1.        ])"
      ]
     },
     "execution_count": 98,
     "metadata": {},
     "output_type": "execute_result"
    }
   ],
   "source": [
    "precisions"
   ]
  },
  {
   "cell_type": "code",
   "execution_count": 99,
   "metadata": {},
   "outputs": [
    {
     "data": {
      "text/plain": [
       "array([1.        , 0.98148148, 0.98148148, 0.98148148, 0.98148148,\n",
       "       0.98148148, 0.98148148, 0.98148148, 0.98148148, 0.98148148,\n",
       "       0.98148148, 0.98148148, 0.98148148, 0.98148148, 0.98148148,\n",
       "       0.98148148, 0.98148148, 0.98148148, 0.98148148, 0.98148148,\n",
       "       0.98148148, 0.98148148, 0.98148148, 0.98148148, 0.98148148,\n",
       "       0.98148148, 0.98148148, 0.98148148, 0.98148148, 0.98148148,\n",
       "       0.98148148, 0.98148148, 0.98148148, 0.98148148, 0.98148148,\n",
       "       0.98148148, 0.98148148, 0.98148148, 0.98148148, 0.98148148,\n",
       "       0.98148148, 0.98148148, 0.98148148, 0.98148148, 0.98148148,\n",
       "       0.98148148, 0.98148148, 0.98148148, 0.98148148, 0.98148148,\n",
       "       0.98148148, 0.98148148, 0.98148148, 0.98148148, 0.98148148,\n",
       "       0.98148148, 0.98148148, 0.98148148, 0.98148148, 0.98148148,\n",
       "       0.98148148, 0.98148148, 0.98148148, 0.98148148, 0.98148148,\n",
       "       0.98148148, 0.98148148, 0.98148148, 0.96296296, 0.96296296,\n",
       "       0.96296296, 0.96296296, 0.96296296, 0.96296296, 0.96296296,\n",
       "       0.96296296, 0.96296296, 0.96296296, 0.96296296, 0.96296296,\n",
       "       0.96296296, 0.96296296, 0.96296296, 0.96296296, 0.96296296,\n",
       "       0.96296296, 0.96296296, 0.96296296, 0.96296296, 0.96296296,\n",
       "       0.96296296, 0.96296296, 0.96296296, 0.96296296, 0.96296296,\n",
       "       0.96296296, 0.96296296, 0.96296296, 0.96296296, 0.96296296,\n",
       "       0.96296296, 0.96296296, 0.96296296, 0.96296296, 0.96296296,\n",
       "       0.96296296, 0.96296296, 0.96296296, 0.96296296, 0.96296296,\n",
       "       0.96296296, 0.96296296, 0.96296296, 0.96296296, 0.96296296,\n",
       "       0.96296296, 0.96296296, 0.96296296, 0.96296296, 0.96296296,\n",
       "       0.96296296, 0.96296296, 0.96296296, 0.96296296, 0.96296296,\n",
       "       0.96296296, 0.96296296, 0.96296296, 0.96296296, 0.96296296,\n",
       "       0.96296296, 0.96296296, 0.96296296, 0.96296296, 0.96296296,\n",
       "       0.96296296, 0.96296296, 0.96296296, 0.96296296, 0.96296296,\n",
       "       0.96296296, 0.96296296, 0.96296296, 0.96296296, 0.96296296,\n",
       "       0.96296296, 0.96296296, 0.96296296, 0.96296296, 0.96296296,\n",
       "       0.96296296, 0.96296296, 0.96296296, 0.96296296, 0.96296296,\n",
       "       0.96296296, 0.96296296, 0.96296296, 0.96296296, 0.96296296,\n",
       "       0.96296296, 0.96296296, 0.96296296, 0.96296296, 0.96296296,\n",
       "       0.96296296, 0.96296296, 0.96296296, 0.96296296, 0.96296296,\n",
       "       0.96296296, 0.96296296, 0.96296296, 0.96296296, 0.96296296,\n",
       "       0.96296296, 0.96296296, 0.96296296, 0.96296296, 0.96296296,\n",
       "       0.96296296, 0.96296296, 0.96296296, 0.96296296, 0.96296296,\n",
       "       0.96296296, 0.96296296, 0.96296296, 0.96296296, 0.96296296,\n",
       "       0.96296296, 0.96296296, 0.96296296, 0.96296296, 0.96296296,\n",
       "       0.96296296, 0.96296296, 0.96296296, 0.96296296, 0.96296296,\n",
       "       0.96296296, 0.96296296, 0.96296296, 0.96296296, 0.96296296,\n",
       "       0.96296296, 0.96296296, 0.96296296, 0.96296296, 0.96296296,\n",
       "       0.96296296, 0.96296296, 0.96296296, 0.96296296, 0.96296296,\n",
       "       0.96296296, 0.96296296, 0.96296296, 0.96296296, 0.96296296,\n",
       "       0.96296296, 0.96296296, 0.96296296, 0.96296296, 0.96296296,\n",
       "       0.96296296, 0.96296296, 0.96296296, 0.96296296, 0.96296296,\n",
       "       0.96296296, 0.96296296, 0.96296296, 0.96296296, 0.96296296,\n",
       "       0.96296296, 0.96296296, 0.96296296, 0.96296296, 0.96296296,\n",
       "       0.96296296, 0.96296296, 0.96296296, 0.96296296, 0.96296296,\n",
       "       0.96296296, 0.96296296, 0.96296296, 0.96296296, 0.96296296,\n",
       "       0.96296296, 0.94444444, 0.94444444, 0.94444444, 0.94444444,\n",
       "       0.94444444, 0.94444444, 0.94444444, 0.94444444, 0.94444444,\n",
       "       0.94444444, 0.94444444, 0.94444444, 0.94444444, 0.94444444,\n",
       "       0.94444444, 0.94444444, 0.94444444, 0.94444444, 0.94444444,\n",
       "       0.94444444, 0.94444444, 0.94444444, 0.94444444, 0.94444444,\n",
       "       0.94444444, 0.94444444, 0.94444444, 0.94444444, 0.94444444,\n",
       "       0.94444444, 0.94444444, 0.94444444, 0.94444444, 0.94444444,\n",
       "       0.94444444, 0.94444444, 0.94444444, 0.94444444, 0.94444444,\n",
       "       0.94444444, 0.94444444, 0.94444444, 0.94444444, 0.94444444,\n",
       "       0.94444444, 0.94444444, 0.94444444, 0.94444444, 0.94444444,\n",
       "       0.94444444, 0.94444444, 0.94444444, 0.94444444, 0.94444444,\n",
       "       0.94444444, 0.94444444, 0.94444444, 0.94444444, 0.94444444,\n",
       "       0.94444444, 0.94444444, 0.94444444, 0.94444444, 0.94444444,\n",
       "       0.94444444, 0.94444444, 0.94444444, 0.94444444, 0.94444444,\n",
       "       0.94444444, 0.94444444, 0.94444444, 0.94444444, 0.94444444,\n",
       "       0.94444444, 0.94444444, 0.94444444, 0.92592593, 0.92592593,\n",
       "       0.92592593, 0.92592593, 0.92592593, 0.92592593, 0.92592593,\n",
       "       0.92592593, 0.92592593, 0.92592593, 0.92592593, 0.92592593,\n",
       "       0.92592593, 0.92592593, 0.92592593, 0.92592593, 0.92592593,\n",
       "       0.92592593, 0.92592593, 0.92592593, 0.92592593, 0.92592593,\n",
       "       0.92592593, 0.92592593, 0.92592593, 0.90740741, 0.90740741,\n",
       "       0.88888889, 0.88888889, 0.88888889, 0.88888889, 0.88888889,\n",
       "       0.87037037, 0.87037037, 0.85185185, 0.83333333, 0.81481481,\n",
       "       0.7962963 , 0.7962963 , 0.77777778, 0.75925926, 0.74074074,\n",
       "       0.74074074, 0.72222222, 0.7037037 , 0.68518519, 0.66666667,\n",
       "       0.64814815, 0.62962963, 0.61111111, 0.59259259, 0.57407407,\n",
       "       0.55555556, 0.53703704, 0.51851852, 0.5       , 0.48148148,\n",
       "       0.46296296, 0.44444444, 0.42592593, 0.40740741, 0.38888889,\n",
       "       0.38888889, 0.37037037, 0.35185185, 0.33333333, 0.31481481,\n",
       "       0.2962963 , 0.27777778, 0.25925926, 0.24074074, 0.22222222,\n",
       "       0.2037037 , 0.18518519, 0.16666667, 0.14814815, 0.12962963,\n",
       "       0.11111111, 0.09259259, 0.07407407, 0.05555556, 0.03703704,\n",
       "       0.01851852, 0.        ])"
      ]
     },
     "execution_count": 99,
     "metadata": {},
     "output_type": "execute_result"
    }
   ],
   "source": [
    "recalls"
   ]
  },
  {
   "cell_type": "code",
   "execution_count": 100,
   "metadata": {},
   "outputs": [
    {
     "data": {
      "text/plain": [
       "array([-31.26156827, -31.25258855, -31.24918708, -31.13638111,\n",
       "       -30.99850422, -30.92536045, -30.87750345, -30.66970204,\n",
       "       -30.66599995, -30.64798559, -30.62155974, -30.41687969,\n",
       "       -30.34681004, -30.33812636, -30.12208307, -30.12115672,\n",
       "       -30.04378829, -29.91712331, -29.88682629, -29.80007609,\n",
       "       -29.76575262, -29.7041258 , -29.6582406 , -29.54147663,\n",
       "       -29.49097745, -29.40345399, -29.33694869, -29.15660292,\n",
       "       -28.93400218, -28.91776965, -28.7436881 , -28.69459968,\n",
       "       -28.64936775, -28.63364425, -28.60680428, -28.59880247,\n",
       "       -28.34020577, -28.33148422, -28.27354837, -28.2730039 ,\n",
       "       -28.24400505, -27.84080554, -27.80871668, -27.79629351,\n",
       "       -27.74985631, -27.74493434, -27.72178641, -27.62414325,\n",
       "       -27.54548814, -27.51536006, -27.39809152, -27.38993692,\n",
       "       -27.38462284, -27.30814209, -27.29312676, -27.2910347 ,\n",
       "       -27.23486359, -27.22761511, -27.22651941, -27.19681989,\n",
       "       -27.1230117 , -26.9626737 , -26.85829695, -26.85492868,\n",
       "       -26.75000572, -26.74845709, -26.71117283, -26.63107937,\n",
       "       -26.59562968, -26.47890584, -26.47318097, -26.43008693,\n",
       "       -26.38863846, -26.23251441, -26.21042973, -26.16897065,\n",
       "       -26.13781604, -26.12928735, -26.08553176, -26.08342814,\n",
       "       -26.07912148, -26.02373141, -25.92054389, -25.90287512,\n",
       "       -25.84473802, -25.76891058, -25.72975104, -25.724621  ,\n",
       "       -25.7167607 , -25.66286529, -25.65228885, -25.61468495,\n",
       "       -25.60259178, -25.56245906, -25.46679858, -25.43754248,\n",
       "       -25.38822872, -25.25537134, -25.19091505, -25.1472368 ,\n",
       "       -25.13663022, -25.02274352, -24.94343486, -24.691053  ,\n",
       "       -24.59617544, -24.57456978, -24.55893201, -24.50128113,\n",
       "       -24.41443878, -24.22346778, -24.06962291, -24.0327655 ,\n",
       "       -23.79963293, -23.79435003, -23.76719765, -23.73186762,\n",
       "       -23.72307042, -23.60913315, -23.56500162, -23.47387157,\n",
       "       -23.37886953, -23.32111438, -23.16009806, -23.07946313,\n",
       "       -23.07406704, -23.03184902, -23.02929492, -23.02261784,\n",
       "       -22.94262164, -22.81051263, -22.80747909, -22.80596824,\n",
       "       -22.77184693, -22.74430229, -22.67631946, -22.65188168,\n",
       "       -22.51875366, -22.33199899, -22.32019041, -22.22179992,\n",
       "       -22.20175041, -22.10412197, -22.02397921, -21.99085078,\n",
       "       -21.87336429, -21.82521038, -21.79087334, -21.77266275,\n",
       "       -21.62449046, -21.58371838, -21.5595562 , -21.54196054,\n",
       "       -21.51956882, -21.49646271, -21.49186451, -21.45309828,\n",
       "       -21.33800289, -21.24744807, -21.16078215, -21.10214214,\n",
       "       -21.02509547, -21.00073535, -20.87480559, -20.87335399,\n",
       "       -20.7828461 , -20.76744047, -20.74573371, -20.7156813 ,\n",
       "       -20.55751355, -20.54011805, -20.4841879 , -20.41238243,\n",
       "       -20.31741881, -20.28416704, -20.24223327, -20.20557308,\n",
       "       -20.18581949, -20.1749349 , -20.17471698, -20.1196779 ,\n",
       "       -20.10368085, -20.06031781, -20.04591982, -19.85971549,\n",
       "       -19.81403538, -19.67796438, -19.56347396, -19.48195487,\n",
       "       -19.45822959, -19.31239347, -19.19117641, -19.17806803,\n",
       "       -19.17774143, -19.14724225, -19.09485858, -19.08089708,\n",
       "       -19.03458286, -19.01800143, -18.98010589, -18.93257153,\n",
       "       -18.79999191, -18.76588617, -18.74048738, -18.60741332,\n",
       "       -18.47513651, -18.43691985, -18.33214045, -18.30217118,\n",
       "       -18.29778094, -18.27344879, -18.24223785, -18.23758885,\n",
       "       -18.19337289, -18.18587196, -18.18369099, -18.13463393,\n",
       "       -18.04305542, -18.0313812 , -18.02406238, -17.99930794,\n",
       "       -17.88339426, -17.819977  , -17.81457913, -17.77348076,\n",
       "       -17.70462442, -17.67318558, -17.65820218, -17.60020866,\n",
       "       -17.45933651, -17.4380517 , -17.30038941, -17.24517177,\n",
       "       -17.15114228, -17.12692755, -17.07641356, -17.006571  ,\n",
       "       -16.99579581, -16.98148626, -16.95878394, -16.85037575,\n",
       "       -16.80588031, -16.79550485, -16.70457612, -16.65788174,\n",
       "       -16.62438536, -16.61767938, -16.61326019, -16.4406417 ,\n",
       "       -16.41337035, -16.3539864 , -16.31605831, -16.20844747,\n",
       "       -16.15920481, -15.99378703, -15.90390045, -15.88215856,\n",
       "       -15.83088674, -15.81905247, -15.81496337, -15.79180573,\n",
       "       -15.7066934 , -15.68445876, -15.63835958, -15.53023114,\n",
       "       -15.41766954, -15.38769092, -15.35696544, -15.34277988,\n",
       "       -15.32145568, -15.22948912, -15.21595723, -15.20693511,\n",
       "       -15.1376156 , -15.03984026, -14.98046816, -14.92186298,\n",
       "       -14.88998362, -14.88410535, -14.80462539, -14.79867082,\n",
       "       -14.72664912, -14.72120036, -14.69314095, -14.58427708,\n",
       "       -14.56356102, -14.34045515, -14.25688906, -14.17776725,\n",
       "       -14.17382211, -14.01330501, -13.93234554, -13.81973263,\n",
       "       -13.60235249, -13.58070662, -13.53944478, -13.49194885,\n",
       "       -13.48464473, -13.36614441, -13.23723015, -13.23142095,\n",
       "       -13.16920248, -13.12512251, -12.9961305 , -12.97269458,\n",
       "       -12.93120015, -12.80127505, -12.67306439, -12.61484423,\n",
       "       -12.55998249, -12.48084102, -12.46725918, -12.14557512,\n",
       "       -12.11723212, -12.04645507, -11.95457211, -11.93383559,\n",
       "       -11.86357623, -11.31526824, -11.28066764, -11.11505966,\n",
       "       -10.48704792, -10.45388025, -10.43970691, -10.19568094,\n",
       "       -10.10840344, -10.10580056, -10.03767427,  -9.86778404,\n",
       "        -9.83224211,  -9.71733999,  -9.67491595,  -9.5932663 ,\n",
       "        -9.55035005,  -9.52140859,  -9.1841276 ,  -9.1653869 ,\n",
       "        -8.93934978,  -8.68546772,  -8.58330422,  -8.56521285,\n",
       "        -8.24781374,  -8.20008709,  -8.00065481,  -7.86909694,\n",
       "        -7.76771564,  -6.83414707,  -6.75391065,  -6.60612075,\n",
       "        -6.56605717,  -5.95062326,  -5.79251493,  -5.66165539,\n",
       "        -4.28180092,  -3.98638414,  -3.70852864,  -3.22016607,\n",
       "        -2.75235695,  -2.67420203,  -1.78110417,  -1.28647082,\n",
       "        -0.33950103,  -0.25508734,   0.33290707,   0.88253725,\n",
       "         1.13273041,   1.42917841,   1.47474779,   3.12971578,\n",
       "         4.80796023,   6.01339339,   7.26849135,   8.65003167,\n",
       "         8.81748326,   9.75256614,  10.05856065,  10.91174646,\n",
       "        11.00555417,  11.61182672,  11.61367383,  12.18405998,\n",
       "        12.38416587,  13.09633348,  13.3660137 ,  13.36979836,\n",
       "        13.67077291,  15.08642325,  15.53438255,  15.65173817,\n",
       "        15.80234576,  16.38761478,  16.64632675,  17.03204821,\n",
       "        17.99307052,  18.48667012,  18.49714832,  19.50384834,\n",
       "        19.71663763,  20.423959  ,  20.55772012,  21.19927792,\n",
       "        22.042467  ,  22.75099621,  22.76655669,  23.0023359 ,\n",
       "        23.0149654 ,  23.32206647,  23.56492013,  26.1276866 ,\n",
       "        27.79928697,  30.22264988,  31.63776143])"
      ]
     },
     "execution_count": 100,
     "metadata": {},
     "output_type": "execute_result"
    }
   ],
   "source": [
    "thresholds"
   ]
  },
  {
   "cell_type": "code",
   "execution_count": 101,
   "metadata": {},
   "outputs": [
    {
     "data": {
      "image/png": "[encoded data removed]",
      "text/plain": [
       "<Figure size 432x288 with 1 Axes>"
      ]
     },
     "metadata": {
      "needs_background": "light"
     },
     "output_type": "display_data"
    }
   ],
   "source": [
    "plt.plot(thresholds, precisions[:-1], \"b--\", label = \"Precision\")\n",
    "plt.plot(thresholds, recalls[:-1], \"g-\", label = \"Recall\")\n",
    "plt.xlabel(\"Threshold\")\n",
    "plt.legend(loc='upper left')\n",
    "plt.ylim([0,1])\n",
    "plt.show()"
   ]
  },
  {
   "cell_type": "markdown",
   "metadata": {},
   "source": [
    "## Not 2 Detector"
   ]
  },
  {
   "cell_type": "code",
   "execution_count": 102,
   "metadata": {},
   "outputs": [],
   "source": [
    "y_train = y_train.astype(np.int8)\n",
    "y_train_n = (y_train != 2)"
   ]
  },
  {
   "cell_type": "code",
   "execution_count": 103,
   "metadata": {},
   "outputs": [],
   "source": [
    "y_test = y_test.astype(np.int8)\n",
    "y_test_n = (y_test !=2)"
   ]
  },
  {
   "cell_type": "code",
   "execution_count": 104,
   "metadata": {},
   "outputs": [
    {
     "data": {
      "text/plain": [
       "array([ True,  True,  True, ...,  True,  True,  True])"
      ]
     },
     "execution_count": 104,
     "metadata": {},
     "output_type": "execute_result"
    }
   ],
   "source": [
    "y_test_n"
   ]
  },
  {
   "cell_type": "code",
   "execution_count": 105,
   "metadata": {},
   "outputs": [
    {
     "data": {
      "text/plain": [
       "array([ True,  True,  True,  True,  True,  True,  True,  True,  True,\n",
       "        True,  True,  True,  True,  True,  True, False,  True,  True,\n",
       "        True,  True,  True,  True,  True,  True, False,  True,  True,\n",
       "        True,  True,  True,  True,  True,  True,  True,  True,  True,\n",
       "        True,  True,  True, False,  True,  True,  True, False,  True,\n",
       "       False,  True,  True,  True,  True,  True,  True,  True,  True,\n",
       "        True,  True, False, False,  True,  True,  True,  True,  True,\n",
       "        True, False,  True,  True,  True,  True,  True,  True,  True,\n",
       "       False,  True,  True,  True,  True,  True,  True,  True,  True,\n",
       "       False,  True, False,  True,  True, False,  True,  True,  True,\n",
       "        True, False,  True,  True,  True,  True,  True,  True,  True,\n",
       "        True,  True,  True,  True, False,  True,  True,  True,  True,\n",
       "        True,  True,  True,  True,  True,  True,  True,  True,  True,\n",
       "       False,  True,  True,  True,  True,  True,  True,  True,  True,\n",
       "       False,  True,  True,  True, False,  True,  True,  True,  True,\n",
       "        True,  True, False,  True,  True,  True,  True,  True,  True,\n",
       "        True,  True,  True,  True,  True,  True, False,  True,  True,\n",
       "        True,  True,  True,  True,  True, False,  True,  True,  True,\n",
       "        True,  True,  True,  True,  True,  True,  True,  True,  True,\n",
       "        True,  True,  True,  True,  True,  True,  True, False,  True,\n",
       "        True,  True,  True, False,  True,  True, False,  True,  True,\n",
       "       False,  True,  True, False,  True,  True,  True,  True,  True,\n",
       "        True,  True,  True,  True,  True,  True, False, False,  True,\n",
       "        True,  True,  True,  True,  True, False,  True,  True,  True,\n",
       "        True,  True,  True,  True,  True,  True,  True,  True,  True,\n",
       "        True,  True, False,  True,  True,  True, False,  True,  True,\n",
       "        True,  True,  True,  True,  True, False, False,  True,  True,\n",
       "        True,  True,  True,  True,  True,  True,  True,  True,  True,\n",
       "        True,  True,  True,  True,  True, False, False,  True,  True,\n",
       "        True,  True,  True,  True,  True,  True,  True, False,  True,\n",
       "        True,  True,  True,  True,  True,  True,  True,  True,  True,\n",
       "        True,  True,  True,  True,  True,  True,  True,  True,  True,\n",
       "       False,  True,  True,  True,  True,  True,  True,  True,  True,\n",
       "       False,  True,  True,  True,  True, False,  True,  True,  True,\n",
       "        True, False,  True,  True,  True,  True,  True,  True,  True,\n",
       "        True,  True,  True,  True,  True, False,  True,  True,  True,\n",
       "       False,  True,  True,  True,  True,  True,  True, False,  True,\n",
       "       False,  True, False,  True,  True,  True,  True,  True,  True,\n",
       "        True,  True,  True,  True,  True,  True,  True,  True,  True,\n",
       "        True,  True,  True,  True,  True,  True, False,  True,  True,\n",
       "        True,  True,  True,  True,  True,  True,  True,  True,  True,\n",
       "        True,  True,  True,  True,  True,  True,  True,  True,  True,\n",
       "        True,  True,  True,  True,  True,  True,  True,  True,  True,\n",
       "       False,  True,  True,  True, False,  True,  True,  True,  True,\n",
       "        True,  True,  True, False,  True,  True,  True,  True,  True,\n",
       "        True, False,  True,  True,  True,  True,  True,  True, False,\n",
       "        True,  True,  True,  True,  True,  True,  True,  True, False,\n",
       "        True,  True,  True, False,  True,  True,  True,  True,  True,\n",
       "        True,  True,  True,  True,  True,  True,  True,  True,  True,\n",
       "        True,  True,  True,  True,  True,  True,  True,  True,  True,\n",
       "        True,  True,  True, False,  True, False,  True,  True,  True,\n",
       "        True,  True,  True,  True,  True,  True,  True,  True,  True,\n",
       "        True,  True,  True,  True,  True,  True,  True,  True,  True,\n",
       "        True,  True,  True,  True,  True, False,  True,  True,  True,\n",
       "        True,  True,  True,  True,  True, False,  True, False,  True,\n",
       "        True,  True,  True,  True,  True,  True,  True,  True,  True,\n",
       "        True,  True,  True,  True,  True,  True,  True,  True,  True,\n",
       "        True,  True,  True,  True,  True,  True,  True, False,  True,\n",
       "        True, False,  True,  True, False,  True,  True, False,  True,\n",
       "        True,  True,  True,  True, False,  True,  True,  True,  True,\n",
       "        True,  True,  True,  True,  True,  True,  True,  True,  True,\n",
       "        True,  True,  True,  True,  True,  True,  True,  True,  True,\n",
       "        True,  True,  True,  True,  True,  True,  True,  True,  True,\n",
       "        True,  True,  True,  True,  True,  True,  True,  True, False,\n",
       "        True,  True,  True,  True,  True,  True,  True,  True,  True,\n",
       "        True,  True, False,  True,  True,  True,  True,  True,  True,\n",
       "        True,  True,  True,  True,  True,  True])"
      ]
     },
     "execution_count": 105,
     "metadata": {},
     "output_type": "execute_result"
    }
   ],
   "source": [
    "y_train_n"
   ]
  },
  {
   "cell_type": "code",
   "execution_count": 106,
   "metadata": {},
   "outputs": [],
   "source": [
    "modeln = LogisticRegression()"
   ]
  },
  {
   "cell_type": "code",
   "execution_count": 107,
   "metadata": {},
   "outputs": [
    {
     "data": {
      "text/plain": [
       "LogisticRegression()"
      ]
     },
     "execution_count": 107,
     "metadata": {},
     "output_type": "execute_result"
    }
   ],
   "source": [
    "modeln.fit(x_train,y_train_n)"
   ]
  },
  {
   "cell_type": "code",
   "execution_count": 113,
   "metadata": {},
   "outputs": [
    {
     "data": {
      "text/plain": [
       "array([ True])"
      ]
     },
     "execution_count": 113,
     "metadata": {},
     "output_type": "execute_result"
    }
   ],
   "source": [
    "modeln.predict([some_digit])"
   ]
  },
  {
   "cell_type": "code",
   "execution_count": 114,
   "metadata": {},
   "outputs": [],
   "source": [
    "b = cross_val_score(modeln, x_train , y_train_n , cv=3, scoring='accuracy')"
   ]
  },
  {
   "cell_type": "code",
   "execution_count": 115,
   "metadata": {},
   "outputs": [
    {
     "data": {
      "text/plain": [
       "0.9633333333333333"
      ]
     },
     "execution_count": 115,
     "metadata": {},
     "output_type": "execute_result"
    }
   ],
   "source": [
    "b.mean()"
   ]
  },
  {
   "cell_type": "code",
   "execution_count": 112,
   "metadata": {},
   "outputs": [],
   "source": [
    "from sklearn.model_selection import cross_val_predict"
   ]
  },
  {
   "cell_type": "code",
   "execution_count": 119,
   "metadata": {},
   "outputs": [],
   "source": [
    "y_pred_n = cross_val_predict(modeln, x_train, y_train_n, cv=3)"
   ]
  },
  {
   "cell_type": "code",
   "execution_count": 120,
   "metadata": {},
   "outputs": [
    {
     "data": {
      "text/plain": [
       "array([ True,  True,  True,  True,  True,  True,  True,  True,  True,\n",
       "        True,  True,  True,  True,  True,  True, False,  True,  True,\n",
       "        True,  True,  True,  True,  True,  True, False, False,  True,\n",
       "        True,  True,  True,  True, False,  True,  True,  True,  True,\n",
       "        True,  True,  True, False, False,  True,  True, False,  True,\n",
       "       False,  True,  True,  True,  True,  True,  True,  True,  True,\n",
       "        True,  True, False, False,  True,  True,  True,  True,  True,\n",
       "        True, False,  True,  True,  True,  True,  True,  True,  True,\n",
       "       False,  True,  True,  True,  True,  True,  True,  True,  True,\n",
       "        True,  True, False,  True,  True, False,  True,  True,  True,\n",
       "        True, False,  True,  True,  True,  True,  True,  True,  True,\n",
       "        True,  True,  True,  True, False,  True,  True,  True,  True,\n",
       "        True,  True,  True,  True,  True,  True,  True,  True,  True,\n",
       "       False,  True,  True, False,  True,  True,  True,  True,  True,\n",
       "       False,  True,  True,  True, False,  True,  True,  True,  True,\n",
       "        True,  True, False,  True,  True,  True,  True,  True,  True,\n",
       "        True,  True,  True,  True,  True,  True, False,  True,  True,\n",
       "        True,  True,  True,  True,  True,  True,  True,  True,  True,\n",
       "        True,  True,  True,  True,  True,  True,  True,  True,  True,\n",
       "        True,  True,  True,  True,  True,  True,  True, False,  True,\n",
       "        True,  True,  True, False,  True,  True, False,  True,  True,\n",
       "       False,  True,  True,  True,  True,  True,  True,  True,  True,\n",
       "        True,  True,  True,  True,  True,  True, False,  True,  True,\n",
       "        True,  True,  True,  True,  True, False,  True,  True,  True,\n",
       "        True,  True,  True,  True,  True,  True,  True,  True,  True,\n",
       "        True,  True,  True,  True,  True,  True, False,  True,  True,\n",
       "        True,  True,  True,  True,  True, False,  True,  True, False,\n",
       "        True,  True,  True,  True,  True,  True,  True,  True,  True,\n",
       "        True,  True,  True,  True,  True, False, False,  True,  True,\n",
       "        True,  True,  True,  True,  True,  True,  True, False,  True,\n",
       "        True,  True,  True,  True,  True,  True, False,  True,  True,\n",
       "        True,  True,  True,  True,  True,  True,  True,  True,  True,\n",
       "       False,  True,  True,  True,  True,  True,  True,  True,  True,\n",
       "       False,  True,  True,  True,  True, False,  True,  True,  True,\n",
       "        True,  True,  True,  True,  True,  True,  True,  True,  True,\n",
       "        True,  True,  True,  True,  True, False,  True,  True,  True,\n",
       "        True,  True,  True,  True,  True,  True,  True, False,  True,\n",
       "       False,  True, False,  True,  True,  True,  True,  True,  True,\n",
       "        True,  True,  True,  True,  True,  True,  True,  True,  True,\n",
       "        True,  True,  True,  True,  True,  True,  True,  True,  True,\n",
       "        True,  True,  True,  True,  True,  True,  True,  True,  True,\n",
       "        True,  True,  True,  True,  True,  True,  True,  True, False,\n",
       "        True,  True,  True,  True,  True,  True,  True,  True,  True,\n",
       "       False,  True,  True,  True, False, False,  True,  True,  True,\n",
       "        True,  True,  True, False,  True,  True,  True,  True,  True,\n",
       "        True,  True,  True,  True,  True,  True,  True,  True, False,\n",
       "        True,  True,  True,  True,  True,  True,  True,  True, False,\n",
       "        True,  True,  True,  True,  True,  True,  True,  True,  True,\n",
       "        True,  True,  True,  True,  True,  True,  True,  True,  True,\n",
       "        True,  True,  True,  True,  True,  True,  True,  True,  True,\n",
       "        True,  True,  True,  True,  True, False,  True,  True,  True,\n",
       "        True,  True,  True,  True,  True,  True,  True,  True,  True,\n",
       "        True,  True,  True,  True,  True,  True,  True,  True,  True,\n",
       "        True,  True,  True,  True,  True, False,  True,  True,  True,\n",
       "        True,  True,  True,  True,  True, False,  True, False,  True,\n",
       "        True,  True,  True,  True,  True,  True,  True,  True,  True,\n",
       "        True,  True,  True,  True,  True,  True,  True,  True,  True,\n",
       "        True,  True,  True,  True,  True,  True,  True,  True,  True,\n",
       "        True, False,  True,  True, False,  True,  True,  True,  True,\n",
       "        True,  True,  True,  True, False,  True,  True,  True,  True,\n",
       "        True,  True,  True,  True,  True,  True,  True,  True,  True,\n",
       "        True,  True,  True,  True,  True,  True,  True,  True,  True,\n",
       "        True,  True,  True,  True,  True,  True,  True,  True,  True,\n",
       "        True,  True,  True,  True,  True,  True,  True,  True, False,\n",
       "        True,  True,  True,  True,  True,  True,  True,  True,  True,\n",
       "        True,  True, False,  True,  True,  True,  True,  True,  True,\n",
       "        True,  True,  True,  True,  True,  True])"
      ]
     },
     "execution_count": 120,
     "metadata": {},
     "output_type": "execute_result"
    }
   ],
   "source": [
    "y_pred_n"
   ]
  },
  {
   "cell_type": "code",
   "execution_count": 121,
   "metadata": {},
   "outputs": [],
   "source": [
    "from sklearn.metrics import confusion_matrix"
   ]
  },
  {
   "cell_type": "code",
   "execution_count": 122,
   "metadata": {},
   "outputs": [
    {
     "data": {
      "text/plain": [
       "array([[ 50,  14],\n",
       "       [  8, 528]], dtype=int64)"
      ]
     },
     "execution_count": 122,
     "metadata": {},
     "output_type": "execute_result"
    }
   ],
   "source": [
    "confusion_matrix(y_train_n, y_pred_n)"
   ]
  },
  {
   "cell_type": "code",
   "execution_count": 123,
   "metadata": {},
   "outputs": [
    {
     "data": {
      "text/plain": [
       "array([[ 64,   0],\n",
       "       [  0, 536]], dtype=int64)"
      ]
     },
     "execution_count": 123,
     "metadata": {},
     "output_type": "execute_result"
    }
   ],
   "source": [
    "confusion_matrix(y_train_n, y_train_n)"
   ]
  },
  {
   "cell_type": "code",
   "execution_count": 124,
   "metadata": {},
   "outputs": [],
   "source": [
    "from sklearn.metrics import precision_score\n",
    "from sklearn.metrics import recall_score\n",
    "from sklearn.metrics import f1_score"
   ]
  },
  {
   "cell_type": "code",
   "execution_count": 125,
   "metadata": {},
   "outputs": [
    {
     "data": {
      "text/plain": [
       "0.974169741697417"
      ]
     },
     "execution_count": 125,
     "metadata": {},
     "output_type": "execute_result"
    }
   ],
   "source": [
    "precision_score(y_train_n, y_pred_n)"
   ]
  },
  {
   "cell_type": "code",
   "execution_count": 126,
   "metadata": {},
   "outputs": [
    {
     "data": {
      "text/plain": [
       "0.9850746268656716"
      ]
     },
     "execution_count": 126,
     "metadata": {},
     "output_type": "execute_result"
    }
   ],
   "source": [
    "recall_score(y_train_n, y_pred_n)"
   ]
  },
  {
   "cell_type": "code",
   "execution_count": 127,
   "metadata": {},
   "outputs": [
    {
     "data": {
      "text/plain": [
       "0.9795918367346939"
      ]
     },
     "execution_count": 127,
     "metadata": {},
     "output_type": "execute_result"
    }
   ],
   "source": [
    "f1_score(y_train_n, y_pred_n)"
   ]
  },
  {
   "cell_type": "code",
   "execution_count": 128,
   "metadata": {},
   "outputs": [],
   "source": [
    "from sklearn.metrics import precision_recall_curve"
   ]
  },
  {
   "cell_type": "code",
   "execution_count": 129,
   "metadata": {},
   "outputs": [],
   "source": [
    "y_scores_n = cross_val_predict(modeln, x_train, y_train_n, cv=3, method = 'decision_function' )"
   ]
  },
  {
   "cell_type": "code",
   "execution_count": 130,
   "metadata": {},
   "outputs": [
    {
     "data": {
      "text/plain": [
       "array([ 1.96243981e+01,  3.25279323e+01,  1.54023670e+01,  2.68615267e+01,\n",
       "        1.16369720e+01,  9.16813229e+00,  3.36979192e+01,  4.37156609e+01,\n",
       "        3.57240834e+01,  1.14252688e+01,  4.71964483e+01,  3.45152759e+01,\n",
       "        1.67520835e+01,  3.82877631e+01,  4.11498761e+01, -3.99012097e+01,\n",
       "        7.89840894e+00,  2.03913750e+01,  4.24781710e+01,  4.15618031e+01,\n",
       "        2.23650343e+01,  3.21444127e+01,  9.87958818e+00,  2.57839263e+01,\n",
       "       -3.71696705e+00, -3.02941233e+00,  6.72397685e-02,  1.76668814e+01,\n",
       "        1.60683397e+01,  2.64216920e+01,  2.93828041e+00, -4.04128631e+00,\n",
       "        2.74336620e+01,  1.06748300e+01,  4.93729714e+01,  4.23338756e+01,\n",
       "        2.72413349e+01,  1.53754378e+01,  3.55253650e+01, -1.73294787e+01,\n",
       "       -9.87406985e+00,  4.75739517e+01,  8.80531357e+00, -1.78686167e+01,\n",
       "        1.34279406e+01, -8.91337762e+00,  1.66131487e+01,  5.17136521e+01,\n",
       "        6.63923586e+01,  2.99698774e+01,  1.39651561e+01,  4.73086518e+01,\n",
       "        3.98233024e+01,  4.05948637e+01,  5.16492175e+01,  3.75799938e+01,\n",
       "       -2.01393955e+01, -3.68150976e+01,  1.70002075e+01,  3.21507767e+01,\n",
       "        2.19456100e+01,  3.17486963e+01,  5.23903466e+00,  3.27373082e+01,\n",
       "       -2.56878664e+01,  1.05954950e+01,  4.80998006e+00,  4.38536739e+01,\n",
       "        1.01028773e+01,  2.16928827e+01,  2.90815013e+01,  1.84731683e+01,\n",
       "       -6.08207368e+00,  4.76939722e+01,  4.40862272e+01,  4.06768215e+01,\n",
       "        3.82283163e+01,  2.95670464e+01,  8.13819495e+00,  2.01899294e+01,\n",
       "        2.36921436e+01,  4.52452364e+00,  5.72517367e+01, -2.54564673e+01,\n",
       "        3.03812021e+01,  2.78144769e+01, -2.44800212e+01,  1.68807026e+01,\n",
       "        2.31876518e+01,  5.33129287e+01,  2.42643253e+01, -6.79105939e-01,\n",
       "        2.09206015e+00,  2.34903285e+00,  3.11078780e+01,  2.86966405e+01,\n",
       "        1.39072777e+01,  2.96373505e+01,  4.54504289e+01,  3.69424238e+01,\n",
       "        3.91461420e+01,  1.63484125e+01,  2.35269430e+01, -2.54179327e+01,\n",
       "        3.25201506e+01,  1.73780015e+01,  4.13444045e+01,  3.18950159e+01,\n",
       "        3.02414349e+01,  2.47729223e+01,  2.75819028e+01,  1.19697354e+01,\n",
       "        2.55331075e+01,  1.85159922e+01,  4.90695912e+01,  1.14679613e+01,\n",
       "        2.75989432e+01, -1.64960137e+01,  3.43281403e+01,  2.48102903e+01,\n",
       "       -1.67330219e+00,  2.91421454e+01,  4.96923074e+01,  1.08355086e+01,\n",
       "        3.13726578e+01,  3.56301578e+01, -1.31220990e+00,  4.45790104e+00,\n",
       "        4.13828038e+01,  5.96564626e+01, -6.20581771e+00,  2.35567965e+01,\n",
       "        1.77454487e+01,  4.79143598e+01,  2.49089996e+01,  4.69657692e+01,\n",
       "        9.49166759e+00, -1.40093414e+01,  1.28696218e+01,  4.26375840e+01,\n",
       "        4.46687829e+01,  4.87283973e+01,  1.36290746e+01,  4.47036336e+01,\n",
       "        3.84134034e+01,  3.24944463e+01,  2.70146125e+01,  1.83444027e+01,\n",
       "        5.75144575e+00,  6.44071677e+00, -2.47776192e+01,  1.11303227e+01,\n",
       "        4.34934251e+01,  4.99148492e+01,  1.15367389e+01,  2.86216978e+01,\n",
       "        2.65134989e+01,  2.75912978e+01,  1.70473515e+01,  5.22863084e+01,\n",
       "        5.04016830e+01,  3.32055558e+01,  6.98723205e+00,  4.61013485e+01,\n",
       "        4.29101833e+01,  3.96596864e+01,  3.92064895e+01,  2.22922913e+01,\n",
       "        1.22941114e+01,  2.17834421e+01,  1.53053295e+01,  6.41834532e+00,\n",
       "        4.99826599e+01,  1.91322681e+01,  2.21556299e+01,  2.03150772e+01,\n",
       "        3.90870040e+01,  1.52335594e+01, -1.67454487e+01,  8.06287716e+00,\n",
       "        6.62868090e+01,  9.55567830e+00,  1.46835852e+01, -2.39716919e+01,\n",
       "        3.42103979e+01,  2.39430637e+01, -8.03874320e+00,  2.24530550e+01,\n",
       "        1.28711628e+01, -1.54130427e+01,  3.13358153e+01,  1.99189389e+01,\n",
       "        2.51464617e+00,  3.16502899e+01,  5.98778120e+00,  4.96653369e+01,\n",
       "        1.70207415e+01,  2.54344720e+01,  2.45859548e+01,  1.38606101e+01,\n",
       "        4.12065608e+01,  3.32033910e+01,  1.03734481e+01,  3.85536304e+01,\n",
       "       -2.20941344e+01,  2.81487177e+00,  1.83831341e+01,  3.13334867e+01,\n",
       "        7.35320522e+00,  4.31729640e+01,  2.81838816e+01,  9.53169713e+00,\n",
       "       -1.31387780e+01,  3.56161882e+01,  2.24376136e+01,  1.38744672e+01,\n",
       "        3.37099760e+01,  3.17175743e+01,  8.73948273e+00,  2.97308523e+01,\n",
       "        3.54692423e+01,  1.78144320e+01,  4.71786707e+01,  2.38485667e+01,\n",
       "        1.21333578e+01,  1.41442476e+01,  2.27654256e+01,  1.95109725e+01,\n",
       "        2.08621558e+01,  2.00264720e+01,  2.43794211e+01, -1.57380142e+01,\n",
       "        4.26505617e+01,  4.24299278e+01,  3.87953040e+01,  1.11735411e+01,\n",
       "        4.11945372e+01,  1.52169497e+01,  5.45581414e+01, -2.17741583e+01,\n",
       "        1.37729168e+00,  3.36939340e+01, -2.90612822e+00,  4.89653517e+01,\n",
       "        4.27785361e+01,  5.98060201e+00,  4.68055976e+01,  2.42011915e+01,\n",
       "        2.53354719e+01,  3.22126107e+01,  3.43149666e+01,  1.35453961e+01,\n",
       "        3.35049559e+01,  2.60575070e+01,  1.38501774e+01,  3.94119640e+01,\n",
       "        3.90894642e+01, -1.78226619e+01, -1.50857883e+01,  4.15986741e+01,\n",
       "        1.09704815e+01,  1.72725001e+01,  2.15257828e+00,  2.22063327e+01,\n",
       "        3.06313888e+01,  1.15355228e+01,  2.04086818e+01,  2.86062936e+01,\n",
       "       -1.07818848e+01,  2.92708376e+01,  1.88183126e+01,  2.88829048e+01,\n",
       "        2.02261592e+00,  3.25425127e+01,  1.07518896e+01,  1.37110696e+01,\n",
       "       -1.61654563e+00,  2.80897227e+01,  3.35097478e+01,  1.56310494e+01,\n",
       "        1.24170225e+01,  1.78168223e+01,  1.68715955e+01,  4.79504384e+01,\n",
       "        2.56851953e+01,  1.96465690e+01,  2.85785132e+01,  2.11430057e+01,\n",
       "       -2.43766453e+01,  2.17009378e+01,  4.22432213e+01,  5.25660906e+01,\n",
       "        2.46652101e+01,  1.00817715e+01,  1.42886351e+01,  1.04528900e+01,\n",
       "        4.35255205e+01, -1.74044141e+01,  2.11928061e+01,  3.16877529e+00,\n",
       "        3.67385351e+01,  1.59359116e+01, -1.14642932e+01,  5.48541505e+01,\n",
       "        5.08676074e+01,  1.01191493e+01,  1.99355222e+01,  2.15740414e+01,\n",
       "        3.99762531e+01,  2.50013059e+01,  2.89949326e+01,  3.26562897e+01,\n",
       "        1.93492428e+01,  1.38137781e+01,  3.10510730e+01,  4.72858132e+01,\n",
       "        3.72537399e+01,  1.42737097e+01,  2.30912211e+01,  9.20674601e+00,\n",
       "       -1.12716993e+01,  4.16599064e+01,  2.53789348e+01,  3.50424858e+01,\n",
       "        2.44411914e+01,  3.13977974e+01,  1.46296589e+01,  3.51730264e+01,\n",
       "        8.38890395e+00,  8.90496981e+00,  3.80364281e+01, -1.32430262e-01,\n",
       "        1.02335413e+01, -2.86287929e-02,  7.20943278e+00, -4.46937992e+00,\n",
       "        3.83295892e+01,  1.07919108e+01,  1.85196387e+01,  2.06434439e+01,\n",
       "        1.99002107e+01,  5.05567899e+01,  1.78197110e+01,  1.43755698e+01,\n",
       "        2.95089289e+01,  1.98057492e+01,  3.19356527e+01,  4.47789177e+01,\n",
       "        2.01995294e+01,  2.58282119e+01,  4.59430767e+01,  3.55220648e+01,\n",
       "        8.28984969e+00,  4.62089739e+01,  1.87687796e+01,  1.46910912e+01,\n",
       "        2.06633836e+01,  1.36725963e+01,  3.44196219e+01,  1.95165530e+01,\n",
       "        2.17654108e+01,  2.63432659e+01,  2.46793332e+01,  1.78109958e+01,\n",
       "        1.75024210e+01,  2.08076614e+00,  2.86953459e-01,  1.20628291e+01,\n",
       "        5.48497960e+00,  4.30861371e+01,  3.56986768e+01,  3.02046924e+01,\n",
       "        1.46572962e+01,  1.86227213e+01,  3.15255872e+01,  2.46635381e+01,\n",
       "        3.74980701e+01, -3.38181026e+00,  4.10627365e+01,  2.36652487e+01,\n",
       "        4.07907405e+00,  1.48598446e+01,  2.80280435e+01,  8.88452078e+00,\n",
       "        8.48311727e+00,  1.98043472e+01,  2.68962577e+01, -3.27002423e+01,\n",
       "        3.08021395e+01,  1.96671372e+01,  1.25007034e+01, -1.21560479e+01,\n",
       "       -7.35406244e-01,  1.42734418e+01,  2.52664534e+01,  2.92828245e+01,\n",
       "        1.32806302e+01,  2.75395322e+01,  2.73796897e+01, -1.16757278e+01,\n",
       "        1.98346613e+01,  1.10168722e+01,  1.70719560e+01,  3.39747183e+01,\n",
       "        3.22596412e+01,  4.67717548e+01,  1.38680886e+01,  4.45333765e+01,\n",
       "        2.41914681e+01,  3.06223434e+01,  1.07712076e+01,  1.80214159e+01,\n",
       "        3.85355489e+01, -1.60340371e+00,  1.92454830e+01,  1.64514596e+01,\n",
       "        2.26353379e+01,  3.11085493e+01,  2.62403661e+01,  1.61037949e+01,\n",
       "        4.52368031e+01,  2.03202108e+01, -2.30940094e+00,  3.21404666e+01,\n",
       "        3.00949625e+01,  2.10436925e+01,  1.35122946e+01,  2.34659122e+01,\n",
       "        1.35465947e+01,  2.16083308e+01,  2.26398401e+01,  3.38649411e+01,\n",
       "        2.92804457e+01,  3.57777105e+01,  3.14730998e+01,  2.11639445e+01,\n",
       "        1.01926802e+01,  1.29702373e+01,  1.50921146e+01,  2.84751183e+01,\n",
       "        5.41636044e+01,  2.31863599e+01,  4.04733248e+01,  3.07182961e+01,\n",
       "        3.56942907e+01,  3.68170105e+01,  1.85581439e+01,  2.70846161e+01,\n",
       "        1.63978268e+01,  2.19474830e+01,  3.30971838e+00,  1.98940053e+01,\n",
       "        6.71169906e+01,  2.29893637e+01,  2.46910072e+01, -1.22997983e+01,\n",
       "        6.10268088e+01,  2.53868710e+01,  3.76289712e+00,  2.78402591e+01,\n",
       "        2.07660635e+01,  2.24679225e+01,  3.73168598e+01,  3.46404794e+01,\n",
       "        1.87837838e+01,  1.75668690e+01,  1.92168781e+01,  1.94118652e+01,\n",
       "        1.57959307e+01,  1.50369246e+01,  1.45716232e+01,  4.04163250e+01,\n",
       "        1.99634013e+01,  1.23044422e+01,  3.28827719e+01,  4.22768424e+01,\n",
       "        2.60422048e+01,  3.29775161e+01,  3.20147887e+01,  3.49640937e+01,\n",
       "        7.09873740e+00,  4.10907690e+01, -1.09591076e+01,  1.63405553e+01,\n",
       "        9.66340608e+00,  2.50220106e+01,  2.09336820e+01,  3.62066772e+01,\n",
       "        1.69581491e+01,  1.99667594e+01,  3.40736635e+01, -1.57689977e+01,\n",
       "        3.57558783e+01, -5.03158658e-01,  3.10127593e+01,  2.94057076e+01,\n",
       "        3.89837640e+01,  3.09616787e+00,  4.39161504e+01,  2.28423109e+01,\n",
       "        1.62934518e+01,  6.83198099e+00,  2.43294184e+01,  2.97449855e+01,\n",
       "        3.25282171e+01,  3.42162425e+01,  1.77757607e+01,  3.37250091e+01,\n",
       "        1.34627732e+01,  2.60312517e+01,  3.43046021e+01,  1.07017196e+01,\n",
       "        2.44819858e+01,  1.15248437e+01,  1.74547411e+01,  3.57519997e+01,\n",
       "        2.31424444e+01,  7.17665878e+00,  8.35435980e+01,  1.23162149e+01,\n",
       "        3.18931013e-01,  1.25527625e+01,  3.87646603e+01, -1.62870723e+01,\n",
       "        1.36247561e+01,  2.59700573e+01, -2.50428066e+01,  1.50422023e+01,\n",
       "        3.47697300e+01,  1.57002280e+01,  3.61662591e+01,  1.87341533e+01,\n",
       "        2.78629249e+01,  4.59545154e+01,  2.26295096e+01, -1.77082173e+01,\n",
       "        4.45476706e+00,  2.25094810e+01,  3.17466077e+01,  3.72601318e+01,\n",
       "        1.58275931e+01,  2.54654592e+01,  3.24315175e+01,  3.67926894e+01,\n",
       "        1.68032252e+01,  1.26149611e+01,  5.29966266e+01,  3.78506613e+01,\n",
       "        2.48379822e+01,  8.22873131e+00,  1.69224211e+01,  2.41944605e+01,\n",
       "        3.13501892e+01,  3.44075130e+01,  4.42210876e+01,  1.50265263e+01,\n",
       "        1.61146736e+01,  1.67815234e+01,  1.82157875e+01,  1.71126116e+01,\n",
       "        2.13028906e+01,  3.21742647e+01,  1.17401195e+01,  2.48861932e+01,\n",
       "        2.50432883e+01,  2.09615419e+01,  3.42387862e+01,  1.73762041e+01,\n",
       "        1.39578516e+01,  4.15688652e+01,  6.04247872e+01,  3.20561100e+01,\n",
       "        3.60163725e+01,  2.55775394e+01,  1.13456013e+01, -2.28999657e+01,\n",
       "        3.72384405e+01,  2.41045773e+01,  2.01077464e+01,  3.74797112e+01,\n",
       "        1.96407580e+01,  3.21539881e+01,  8.71930985e+00,  1.75772983e+01,\n",
       "        3.60157560e+01,  1.19770444e+01,  7.31988577e+00, -3.53858046e+01,\n",
       "        3.37305703e+01,  1.86417598e+01,  3.35070515e+01,  2.14341470e+01,\n",
       "        1.04967568e+01,  3.04634850e+01,  2.92445978e+01,  4.20432785e+01,\n",
       "        2.50758852e+01,  2.90620697e+01,  1.90391215e+01,  1.27159128e+01])"
      ]
     },
     "execution_count": 130,
     "metadata": {},
     "output_type": "execute_result"
    }
   ],
   "source": [
    "y_scores_n"
   ]
  },
  {
   "cell_type": "code",
   "execution_count": 132,
   "metadata": {},
   "outputs": [],
   "source": [
    "precisions, recalls, thresholds = precision_recall_curve(y_train_n, y_scores_n)"
   ]
  },
  {
   "cell_type": "code",
   "execution_count": 140,
   "metadata": {},
   "outputs": [
    {
     "data": {
      "text/plain": [
       "array([0.13138686, 0.12926829, 0.12958435, 0.12990196, 0.13022113,\n",
       "       0.13054187, 0.1308642 , 0.13118812, 0.13151365, 0.1318408 ,\n",
       "       0.13216958, 0.1325    , 0.13283208, 0.13316583, 0.13350126,\n",
       "       0.13383838, 0.13417722, 0.13451777, 0.13486005, 0.13520408,\n",
       "       0.13554987, 0.13589744, 0.13624679, 0.13659794, 0.1369509 ,\n",
       "       0.1373057 , 0.13766234, 0.13802083, 0.1383812 , 0.13874346,\n",
       "       0.13910761, 0.13947368, 0.13984169, 0.14021164, 0.14058355,\n",
       "       0.14095745, 0.14133333, 0.14171123, 0.14209115, 0.14247312,\n",
       "       0.14285714, 0.14324324, 0.14363144, 0.14402174, 0.14441417,\n",
       "       0.14480874, 0.14520548, 0.1456044 , 0.14600551, 0.14640884,\n",
       "       0.1468144 , 0.14722222, 0.14763231, 0.14804469, 0.14845938,\n",
       "       0.1488764 , 0.14929577, 0.14971751, 0.15014164, 0.15056818,\n",
       "       0.15099715, 0.15142857, 0.15186246, 0.15229885, 0.15273775,\n",
       "       0.15317919, 0.15362319, 0.15406977, 0.1516035 , 0.15204678,\n",
       "       0.15249267, 0.15294118, 0.15339233, 0.15384615, 0.15430267,\n",
       "       0.1547619 , 0.15522388, 0.15568862, 0.15615616, 0.15662651,\n",
       "       0.1570997 , 0.15757576, 0.15805471, 0.15853659, 0.15902141,\n",
       "       0.1595092 , 0.16      , 0.16049383, 0.16099071, 0.16149068,\n",
       "       0.16199377, 0.1625    , 0.1630094 , 0.16352201, 0.16403785,\n",
       "       0.16455696, 0.16507937, 0.1656051 , 0.16613419, 0.16666667,\n",
       "       0.16720257, 0.16774194, 0.16828479, 0.16883117, 0.16938111,\n",
       "       0.16993464, 0.1704918 , 0.17105263, 0.17161716, 0.17218543,\n",
       "       0.17275748, 0.17333333, 0.17391304, 0.17449664, 0.17508418,\n",
       "       0.17567568, 0.17627119, 0.17687075, 0.1774744 , 0.17808219,\n",
       "       0.17869416, 0.17931034, 0.1799308 , 0.18055556, 0.18118467,\n",
       "       0.18181818, 0.18245614, 0.18309859, 0.18374558, 0.18439716,\n",
       "       0.18505338, 0.18571429, 0.18637993, 0.18705036, 0.18772563,\n",
       "       0.1884058 , 0.18909091, 0.18978102, 0.19047619, 0.19117647,\n",
       "       0.19188192, 0.19259259, 0.19330855, 0.19402985, 0.19475655,\n",
       "       0.19548872, 0.19622642, 0.1969697 , 0.19771863, 0.19847328,\n",
       "       0.19923372, 0.2       , 0.2007722 , 0.20155039, 0.20233463,\n",
       "       0.203125  , 0.20392157, 0.20472441, 0.2055336 , 0.20634921,\n",
       "       0.20717131, 0.208     , 0.20883534, 0.20967742, 0.21052632,\n",
       "       0.21138211, 0.2122449 , 0.21311475, 0.21399177, 0.21487603,\n",
       "       0.21576763, 0.21666667, 0.21757322, 0.21848739, 0.21940928,\n",
       "       0.22033898, 0.2212766 , 0.22222222, 0.22317597, 0.22413793,\n",
       "       0.22510823, 0.22608696, 0.22707424, 0.22807018, 0.22907489,\n",
       "       0.2300885 , 0.23111111, 0.23214286, 0.23318386, 0.23423423,\n",
       "       0.23529412, 0.23636364, 0.23744292, 0.23853211, 0.23963134,\n",
       "       0.24074074, 0.24186047, 0.24299065, 0.24413146, 0.24528302,\n",
       "       0.2464455 , 0.24761905, 0.24880383, 0.25      , 0.25120773,\n",
       "       0.25242718, 0.25365854, 0.25490196, 0.25615764, 0.25742574,\n",
       "       0.25870647, 0.26      , 0.26130653, 0.26262626, 0.26395939,\n",
       "       0.26530612, 0.26666667, 0.26804124, 0.26943005, 0.27083333,\n",
       "       0.27225131, 0.27368421, 0.27513228, 0.27659574, 0.27807487,\n",
       "       0.27956989, 0.28108108, 0.2826087 , 0.28415301, 0.28571429,\n",
       "       0.28729282, 0.28888889, 0.29050279, 0.29213483, 0.29378531,\n",
       "       0.29545455, 0.29714286, 0.29885057, 0.30057803, 0.30232558,\n",
       "       0.30409357, 0.30588235, 0.30769231, 0.30952381, 0.31137725,\n",
       "       0.31325301, 0.31515152, 0.31707317, 0.3190184 , 0.32098765,\n",
       "       0.32298137, 0.31875   , 0.32075472, 0.32278481, 0.32484076,\n",
       "       0.32692308, 0.32903226, 0.33116883, 0.33333333, 0.33552632,\n",
       "       0.33774834, 0.34      , 0.34228188, 0.34459459, 0.34693878,\n",
       "       0.34931507, 0.35172414, 0.35416667, 0.35664336, 0.35915493,\n",
       "       0.36170213, 0.36428571, 0.36690647, 0.36956522, 0.37226277,\n",
       "       0.375     , 0.37777778, 0.38059701, 0.38345865, 0.38636364,\n",
       "       0.38931298, 0.39230769, 0.39534884, 0.3984375 , 0.4015748 ,\n",
       "       0.4047619 , 0.408     , 0.41129032, 0.41463415, 0.41803279,\n",
       "       0.4214876 , 0.425     , 0.42857143, 0.43220339, 0.43589744,\n",
       "       0.43965517, 0.44347826, 0.44736842, 0.45132743, 0.45535714,\n",
       "       0.45945946, 0.46363636, 0.46788991, 0.47222222, 0.47663551,\n",
       "       0.48113208, 0.48571429, 0.49038462, 0.49514563, 0.5       ,\n",
       "       0.5049505 , 0.51      , 0.51515152, 0.52040816, 0.5257732 ,\n",
       "       0.53125   , 0.53684211, 0.54255319, 0.5483871 , 0.55434783,\n",
       "       0.56043956, 0.56666667, 0.57303371, 0.57954545, 0.5862069 ,\n",
       "       0.59302326, 0.6       , 0.60714286, 0.60240964, 0.6097561 ,\n",
       "       0.61728395, 0.625     , 0.63291139, 0.64102564, 0.64935065,\n",
       "       0.65789474, 0.66666667, 0.67567568, 0.68493151, 0.69444444,\n",
       "       0.70422535, 0.71428571, 0.72463768, 0.73529412, 0.74626866,\n",
       "       0.75757576, 0.76923077, 0.78125   , 0.79365079, 0.80645161,\n",
       "       0.81967213, 0.83333333, 0.84745763, 0.84482759, 0.85964912,\n",
       "       0.85714286, 0.87272727, 0.88888889, 0.90566038, 0.92307692,\n",
       "       0.92156863, 0.94      , 0.93877551, 0.9375    , 0.93617021,\n",
       "       0.93478261, 0.95555556, 0.95454545, 0.95348837, 0.95238095,\n",
       "       0.97560976, 0.975     , 0.97435897, 0.97368421, 0.97297297,\n",
       "       0.97222222, 0.97142857, 0.97058824, 0.96969697, 0.96875   ,\n",
       "       0.96774194, 0.96666667, 0.96551724, 0.96428571, 0.96296296,\n",
       "       0.96153846, 0.96      , 0.95833333, 0.95652174, 0.95454545,\n",
       "       1.        , 1.        , 1.        , 1.        , 1.        ,\n",
       "       1.        , 1.        , 1.        , 1.        , 1.        ,\n",
       "       1.        , 1.        , 1.        , 1.        , 1.        ,\n",
       "       1.        , 1.        , 1.        , 1.        , 1.        ,\n",
       "       1.        , 1.        ])"
      ]
     },
     "execution_count": 140,
     "metadata": {},
     "output_type": "execute_result"
    }
   ],
   "source": [
    "precisions"
   ]
  },
  {
   "cell_type": "code",
   "execution_count": 141,
   "metadata": {},
   "outputs": [
    {
     "data": {
      "text/plain": [
       "array([1.        , 0.98148148, 0.98148148, 0.98148148, 0.98148148,\n",
       "       0.98148148, 0.98148148, 0.98148148, 0.98148148, 0.98148148,\n",
       "       0.98148148, 0.98148148, 0.98148148, 0.98148148, 0.98148148,\n",
       "       0.98148148, 0.98148148, 0.98148148, 0.98148148, 0.98148148,\n",
       "       0.98148148, 0.98148148, 0.98148148, 0.98148148, 0.98148148,\n",
       "       0.98148148, 0.98148148, 0.98148148, 0.98148148, 0.98148148,\n",
       "       0.98148148, 0.98148148, 0.98148148, 0.98148148, 0.98148148,\n",
       "       0.98148148, 0.98148148, 0.98148148, 0.98148148, 0.98148148,\n",
       "       0.98148148, 0.98148148, 0.98148148, 0.98148148, 0.98148148,\n",
       "       0.98148148, 0.98148148, 0.98148148, 0.98148148, 0.98148148,\n",
       "       0.98148148, 0.98148148, 0.98148148, 0.98148148, 0.98148148,\n",
       "       0.98148148, 0.98148148, 0.98148148, 0.98148148, 0.98148148,\n",
       "       0.98148148, 0.98148148, 0.98148148, 0.98148148, 0.98148148,\n",
       "       0.98148148, 0.98148148, 0.98148148, 0.96296296, 0.96296296,\n",
       "       0.96296296, 0.96296296, 0.96296296, 0.96296296, 0.96296296,\n",
       "       0.96296296, 0.96296296, 0.96296296, 0.96296296, 0.96296296,\n",
       "       0.96296296, 0.96296296, 0.96296296, 0.96296296, 0.96296296,\n",
       "       0.96296296, 0.96296296, 0.96296296, 0.96296296, 0.96296296,\n",
       "       0.96296296, 0.96296296, 0.96296296, 0.96296296, 0.96296296,\n",
       "       0.96296296, 0.96296296, 0.96296296, 0.96296296, 0.96296296,\n",
       "       0.96296296, 0.96296296, 0.96296296, 0.96296296, 0.96296296,\n",
       "       0.96296296, 0.96296296, 0.96296296, 0.96296296, 0.96296296,\n",
       "       0.96296296, 0.96296296, 0.96296296, 0.96296296, 0.96296296,\n",
       "       0.96296296, 0.96296296, 0.96296296, 0.96296296, 0.96296296,\n",
       "       0.96296296, 0.96296296, 0.96296296, 0.96296296, 0.96296296,\n",
       "       0.96296296, 0.96296296, 0.96296296, 0.96296296, 0.96296296,\n",
       "       0.96296296, 0.96296296, 0.96296296, 0.96296296, 0.96296296,\n",
       "       0.96296296, 0.96296296, 0.96296296, 0.96296296, 0.96296296,\n",
       "       0.96296296, 0.96296296, 0.96296296, 0.96296296, 0.96296296,\n",
       "       0.96296296, 0.96296296, 0.96296296, 0.96296296, 0.96296296,\n",
       "       0.96296296, 0.96296296, 0.96296296, 0.96296296, 0.96296296,\n",
       "       0.96296296, 0.96296296, 0.96296296, 0.96296296, 0.96296296,\n",
       "       0.96296296, 0.96296296, 0.96296296, 0.96296296, 0.96296296,\n",
       "       0.96296296, 0.96296296, 0.96296296, 0.96296296, 0.96296296,\n",
       "       0.96296296, 0.96296296, 0.96296296, 0.96296296, 0.96296296,\n",
       "       0.96296296, 0.96296296, 0.96296296, 0.96296296, 0.96296296,\n",
       "       0.96296296, 0.96296296, 0.96296296, 0.96296296, 0.96296296,\n",
       "       0.96296296, 0.96296296, 0.96296296, 0.96296296, 0.96296296,\n",
       "       0.96296296, 0.96296296, 0.96296296, 0.96296296, 0.96296296,\n",
       "       0.96296296, 0.96296296, 0.96296296, 0.96296296, 0.96296296,\n",
       "       0.96296296, 0.96296296, 0.96296296, 0.96296296, 0.96296296,\n",
       "       0.96296296, 0.96296296, 0.96296296, 0.96296296, 0.96296296,\n",
       "       0.96296296, 0.96296296, 0.96296296, 0.96296296, 0.96296296,\n",
       "       0.96296296, 0.96296296, 0.96296296, 0.96296296, 0.96296296,\n",
       "       0.96296296, 0.96296296, 0.96296296, 0.96296296, 0.96296296,\n",
       "       0.96296296, 0.96296296, 0.96296296, 0.96296296, 0.96296296,\n",
       "       0.96296296, 0.96296296, 0.96296296, 0.96296296, 0.96296296,\n",
       "       0.96296296, 0.96296296, 0.96296296, 0.96296296, 0.96296296,\n",
       "       0.96296296, 0.96296296, 0.96296296, 0.96296296, 0.96296296,\n",
       "       0.96296296, 0.96296296, 0.96296296, 0.96296296, 0.96296296,\n",
       "       0.96296296, 0.94444444, 0.94444444, 0.94444444, 0.94444444,\n",
       "       0.94444444, 0.94444444, 0.94444444, 0.94444444, 0.94444444,\n",
       "       0.94444444, 0.94444444, 0.94444444, 0.94444444, 0.94444444,\n",
       "       0.94444444, 0.94444444, 0.94444444, 0.94444444, 0.94444444,\n",
       "       0.94444444, 0.94444444, 0.94444444, 0.94444444, 0.94444444,\n",
       "       0.94444444, 0.94444444, 0.94444444, 0.94444444, 0.94444444,\n",
       "       0.94444444, 0.94444444, 0.94444444, 0.94444444, 0.94444444,\n",
       "       0.94444444, 0.94444444, 0.94444444, 0.94444444, 0.94444444,\n",
       "       0.94444444, 0.94444444, 0.94444444, 0.94444444, 0.94444444,\n",
       "       0.94444444, 0.94444444, 0.94444444, 0.94444444, 0.94444444,\n",
       "       0.94444444, 0.94444444, 0.94444444, 0.94444444, 0.94444444,\n",
       "       0.94444444, 0.94444444, 0.94444444, 0.94444444, 0.94444444,\n",
       "       0.94444444, 0.94444444, 0.94444444, 0.94444444, 0.94444444,\n",
       "       0.94444444, 0.94444444, 0.94444444, 0.94444444, 0.94444444,\n",
       "       0.94444444, 0.94444444, 0.94444444, 0.94444444, 0.94444444,\n",
       "       0.94444444, 0.94444444, 0.94444444, 0.92592593, 0.92592593,\n",
       "       0.92592593, 0.92592593, 0.92592593, 0.92592593, 0.92592593,\n",
       "       0.92592593, 0.92592593, 0.92592593, 0.92592593, 0.92592593,\n",
       "       0.92592593, 0.92592593, 0.92592593, 0.92592593, 0.92592593,\n",
       "       0.92592593, 0.92592593, 0.92592593, 0.92592593, 0.92592593,\n",
       "       0.92592593, 0.92592593, 0.92592593, 0.90740741, 0.90740741,\n",
       "       0.88888889, 0.88888889, 0.88888889, 0.88888889, 0.88888889,\n",
       "       0.87037037, 0.87037037, 0.85185185, 0.83333333, 0.81481481,\n",
       "       0.7962963 , 0.7962963 , 0.77777778, 0.75925926, 0.74074074,\n",
       "       0.74074074, 0.72222222, 0.7037037 , 0.68518519, 0.66666667,\n",
       "       0.64814815, 0.62962963, 0.61111111, 0.59259259, 0.57407407,\n",
       "       0.55555556, 0.53703704, 0.51851852, 0.5       , 0.48148148,\n",
       "       0.46296296, 0.44444444, 0.42592593, 0.40740741, 0.38888889,\n",
       "       0.38888889, 0.37037037, 0.35185185, 0.33333333, 0.31481481,\n",
       "       0.2962963 , 0.27777778, 0.25925926, 0.24074074, 0.22222222,\n",
       "       0.2037037 , 0.18518519, 0.16666667, 0.14814815, 0.12962963,\n",
       "       0.11111111, 0.09259259, 0.07407407, 0.05555556, 0.03703704,\n",
       "       0.01851852, 0.        ])"
      ]
     },
     "execution_count": 141,
     "metadata": {},
     "output_type": "execute_result"
    }
   ],
   "source": [
    "recalls"
   ]
  },
  {
   "cell_type": "code",
   "execution_count": 143,
   "metadata": {},
   "outputs": [
    {
     "data": {
      "text/plain": [
       "array([-31.26156827, -31.25258855, -31.24918708, -31.13638111,\n",
       "       -30.99850422, -30.92536045, -30.87750345, -30.66970204,\n",
       "       -30.66599995, -30.64798559, -30.62155974, -30.41687969,\n",
       "       -30.34681004, -30.33812636, -30.12208307, -30.12115672,\n",
       "       -30.04378829, -29.91712331, -29.88682629, -29.80007609,\n",
       "       -29.76575262, -29.7041258 , -29.6582406 , -29.54147663,\n",
       "       -29.49097745, -29.40345399, -29.33694869, -29.15660292,\n",
       "       -28.93400218, -28.91776965, -28.7436881 , -28.69459968,\n",
       "       -28.64936775, -28.63364425, -28.60680428, -28.59880247,\n",
       "       -28.34020577, -28.33148422, -28.27354837, -28.2730039 ,\n",
       "       -28.24400505, -27.84080554, -27.80871668, -27.79629351,\n",
       "       -27.74985631, -27.74493434, -27.72178641, -27.62414325,\n",
       "       -27.54548814, -27.51536006, -27.39809152, -27.38993692,\n",
       "       -27.38462284, -27.30814209, -27.29312676, -27.2910347 ,\n",
       "       -27.23486359, -27.22761511, -27.22651941, -27.19681989,\n",
       "       -27.1230117 , -26.9626737 , -26.85829695, -26.85492868,\n",
       "       -26.75000572, -26.74845709, -26.71117283, -26.63107937,\n",
       "       -26.59562968, -26.47890584, -26.47318097, -26.43008693,\n",
       "       -26.38863846, -26.23251441, -26.21042973, -26.16897065,\n",
       "       -26.13781604, -26.12928735, -26.08553176, -26.08342814,\n",
       "       -26.07912148, -26.02373141, -25.92054389, -25.90287512,\n",
       "       -25.84473802, -25.76891058, -25.72975104, -25.724621  ,\n",
       "       -25.7167607 , -25.66286529, -25.65228885, -25.61468495,\n",
       "       -25.60259178, -25.56245906, -25.46679858, -25.43754248,\n",
       "       -25.38822872, -25.25537134, -25.19091505, -25.1472368 ,\n",
       "       -25.13663022, -25.02274352, -24.94343486, -24.691053  ,\n",
       "       -24.59617544, -24.57456978, -24.55893201, -24.50128113,\n",
       "       -24.41443878, -24.22346778, -24.06962291, -24.0327655 ,\n",
       "       -23.79963293, -23.79435003, -23.76719765, -23.73186762,\n",
       "       -23.72307042, -23.60913315, -23.56500162, -23.47387157,\n",
       "       -23.37886953, -23.32111438, -23.16009806, -23.07946313,\n",
       "       -23.07406704, -23.03184902, -23.02929492, -23.02261784,\n",
       "       -22.94262164, -22.81051263, -22.80747909, -22.80596824,\n",
       "       -22.77184693, -22.74430229, -22.67631946, -22.65188168,\n",
       "       -22.51875366, -22.33199899, -22.32019041, -22.22179992,\n",
       "       -22.20175041, -22.10412197, -22.02397921, -21.99085078,\n",
       "       -21.87336429, -21.82521038, -21.79087334, -21.77266275,\n",
       "       -21.62449046, -21.58371838, -21.5595562 , -21.54196054,\n",
       "       -21.51956882, -21.49646271, -21.49186451, -21.45309828,\n",
       "       -21.33800289, -21.24744807, -21.16078215, -21.10214214,\n",
       "       -21.02509547, -21.00073535, -20.87480559, -20.87335399,\n",
       "       -20.7828461 , -20.76744047, -20.74573371, -20.7156813 ,\n",
       "       -20.55751355, -20.54011805, -20.4841879 , -20.41238243,\n",
       "       -20.31741881, -20.28416704, -20.24223327, -20.20557308,\n",
       "       -20.18581949, -20.1749349 , -20.17471698, -20.1196779 ,\n",
       "       -20.10368085, -20.06031781, -20.04591982, -19.85971549,\n",
       "       -19.81403538, -19.67796438, -19.56347396, -19.48195487,\n",
       "       -19.45822959, -19.31239347, -19.19117641, -19.17806803,\n",
       "       -19.17774143, -19.14724225, -19.09485858, -19.08089708,\n",
       "       -19.03458286, -19.01800143, -18.98010589, -18.93257153,\n",
       "       -18.79999191, -18.76588617, -18.74048738, -18.60741332,\n",
       "       -18.47513651, -18.43691985, -18.33214045, -18.30217118,\n",
       "       -18.29778094, -18.27344879, -18.24223785, -18.23758885,\n",
       "       -18.19337289, -18.18587196, -18.18369099, -18.13463393,\n",
       "       -18.04305542, -18.0313812 , -18.02406238, -17.99930794,\n",
       "       -17.88339426, -17.819977  , -17.81457913, -17.77348076,\n",
       "       -17.70462442, -17.67318558, -17.65820218, -17.60020866,\n",
       "       -17.45933651, -17.4380517 , -17.30038941, -17.24517177,\n",
       "       -17.15114228, -17.12692755, -17.07641356, -17.006571  ,\n",
       "       -16.99579581, -16.98148626, -16.95878394, -16.85037575,\n",
       "       -16.80588031, -16.79550485, -16.70457612, -16.65788174,\n",
       "       -16.62438536, -16.61767938, -16.61326019, -16.4406417 ,\n",
       "       -16.41337035, -16.3539864 , -16.31605831, -16.20844747,\n",
       "       -16.15920481, -15.99378703, -15.90390045, -15.88215856,\n",
       "       -15.83088674, -15.81905247, -15.81496337, -15.79180573,\n",
       "       -15.7066934 , -15.68445876, -15.63835958, -15.53023114,\n",
       "       -15.41766954, -15.38769092, -15.35696544, -15.34277988,\n",
       "       -15.32145568, -15.22948912, -15.21595723, -15.20693511,\n",
       "       -15.1376156 , -15.03984026, -14.98046816, -14.92186298,\n",
       "       -14.88998362, -14.88410535, -14.80462539, -14.79867082,\n",
       "       -14.72664912, -14.72120036, -14.69314095, -14.58427708,\n",
       "       -14.56356102, -14.34045515, -14.25688906, -14.17776725,\n",
       "       -14.17382211, -14.01330501, -13.93234554, -13.81973263,\n",
       "       -13.60235249, -13.58070662, -13.53944478, -13.49194885,\n",
       "       -13.48464473, -13.36614441, -13.23723015, -13.23142095,\n",
       "       -13.16920248, -13.12512251, -12.9961305 , -12.97269458,\n",
       "       -12.93120015, -12.80127505, -12.67306439, -12.61484423,\n",
       "       -12.55998249, -12.48084102, -12.46725918, -12.14557512,\n",
       "       -12.11723212, -12.04645507, -11.95457211, -11.93383559,\n",
       "       -11.86357623, -11.31526824, -11.28066764, -11.11505966,\n",
       "       -10.48704792, -10.45388025, -10.43970691, -10.19568094,\n",
       "       -10.10840344, -10.10580056, -10.03767427,  -9.86778404,\n",
       "        -9.83224211,  -9.71733999,  -9.67491595,  -9.5932663 ,\n",
       "        -9.55035005,  -9.52140859,  -9.1841276 ,  -9.1653869 ,\n",
       "        -8.93934978,  -8.68546772,  -8.58330422,  -8.56521285,\n",
       "        -8.24781374,  -8.20008709,  -8.00065481,  -7.86909694,\n",
       "        -7.76771564,  -6.83414707,  -6.75391065,  -6.60612075,\n",
       "        -6.56605717,  -5.95062326,  -5.79251493,  -5.66165539,\n",
       "        -4.28180092,  -3.98638414,  -3.70852864,  -3.22016607,\n",
       "        -2.75235695,  -2.67420203,  -1.78110417,  -1.28647082,\n",
       "        -0.33950103,  -0.25508734,   0.33290707,   0.88253725,\n",
       "         1.13273041,   1.42917841,   1.47474779,   3.12971578,\n",
       "         4.80796023,   6.01339339,   7.26849135,   8.65003167,\n",
       "         8.81748326,   9.75256614,  10.05856065,  10.91174646,\n",
       "        11.00555417,  11.61182672,  11.61367383,  12.18405998,\n",
       "        12.38416587,  13.09633348,  13.3660137 ,  13.36979836,\n",
       "        13.67077291,  15.08642325,  15.53438255,  15.65173817,\n",
       "        15.80234576,  16.38761478,  16.64632675,  17.03204821,\n",
       "        17.99307052,  18.48667012,  18.49714832,  19.50384834,\n",
       "        19.71663763,  20.423959  ,  20.55772012,  21.19927792,\n",
       "        22.042467  ,  22.75099621,  22.76655669,  23.0023359 ,\n",
       "        23.0149654 ,  23.32206647,  23.56492013,  26.1276866 ,\n",
       "        27.79928697,  30.22264988,  31.63776143])"
      ]
     },
     "execution_count": 143,
     "metadata": {},
     "output_type": "execute_result"
    }
   ],
   "source": [
    "thresholds"
   ]
  },
  {
   "cell_type": "code",
   "execution_count": 145,
   "metadata": {},
   "outputs": [
    {
     "data": {
      "image/png": "[encoded data removed]",
      "text/plain": [
       "<Figure size 432x288 with 1 Axes>"
      ]
     },
     "metadata": {
      "needs_background": "light"
     },
     "output_type": "display_data"
    }
   ],
   "source": [
    "plt.plot(thresholds, precisions[:-1], \"g-\", label = \"Precision\")\n",
    "plt.plot(thresholds, recalls[:-1], \"b--\", label = \"Recall\")\n",
    "plt.xlabel(\"Threshold\")\n",
    "plt.legend(loc='upper left')\n",
    "plt.ylim([0,1])\n",
    "plt.show()"
   ]
  },
  {
   "cell_type": "code",
   "execution_count": null,
   "metadata": {},
   "outputs": [],
   "source": []
  }
 ],
 "metadata": {
  "kernelspec": {
   "display_name": "Python 3",
   "language": "python",
   "name": "python3"
  },
  "language_info": {
   "codemirror_mode": {
    "name": "ipython",
    "version": 3
   },
   "file_extension": ".py",
   "mimetype": "text/x-python",
   "name": "python",
   "nbconvert_exporter": "python",
   "pygments_lexer": "ipython3",
   "version": "3.8.5"
  }
 },
 "nbformat": 4,
 "nbformat_minor": 4
}
